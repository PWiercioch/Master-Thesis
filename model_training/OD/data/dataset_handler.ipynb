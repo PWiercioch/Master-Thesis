{
 "cells": [
  {
   "cell_type": "markdown",
   "metadata": {},
   "source": [
    "### General setup"
   ]
  },
  {
   "cell_type": "code",
   "execution_count": 1,
   "metadata": {},
   "outputs": [],
   "source": [
    "%matplotlib widget"
   ]
  },
  {
   "cell_type": "code",
   "execution_count": 2,
   "metadata": {},
   "outputs": [],
   "source": [
    "import fiftyone as fo\n",
    "import fiftyone.zoo as foz"
   ]
  },
  {
   "cell_type": "code",
   "execution_count": 3,
   "metadata": {},
   "outputs": [],
   "source": [
    "import pandas as pd\n",
    "from random import shuffle"
   ]
  },
  {
   "cell_type": "code",
   "execution_count": 4,
   "metadata": {},
   "outputs": [],
   "source": [
    "import tensorflow as tf\n",
    "from object_detection.utils import dataset_util"
   ]
  },
  {
   "cell_type": "code",
   "execution_count": 5,
   "metadata": {},
   "outputs": [],
   "source": [
    "from PIL import Image"
   ]
  },
  {
   "cell_type": "code",
   "execution_count": 6,
   "metadata": {},
   "outputs": [],
   "source": [
    "import io"
   ]
  },
  {
   "cell_type": "markdown",
   "metadata": {},
   "source": [
    "Set download location"
   ]
  },
  {
   "cell_type": "code",
   "execution_count": 7,
   "metadata": {},
   "outputs": [],
   "source": [
    "import pathlib\n",
    "datasets_path = pathlib.Path().resolve() / \"raw_datasets\"\n",
    "fo.config.dataset_zoo_dir = datasets_path"
   ]
  },
  {
   "cell_type": "markdown",
   "metadata": {},
   "source": [
    "List avaialble datasets"
   ]
  },
  {
   "cell_type": "code",
   "execution_count": 8,
   "metadata": {},
   "outputs": [
    {
     "data": {
      "text/plain": [
       "['2022.10.18.22.25.47',\n",
       " '2022.10.18.22.36.00',\n",
       " '2022.10.19.10.57.45',\n",
       " 'bdd100k-test',\n",
       " 'bdd100k-train',\n",
       " 'bdd100k-validation',\n",
       " 'bdd_test_6000',\n",
       " 'bdd_train_6000',\n",
       " 'bdd_validation_6000',\n",
       " 'coco-2017-test-2400',\n",
       " 'coco-2017-train-12000',\n",
       " 'coco-2017-validation-2400',\n",
       " 'kitti-test',\n",
       " 'kitti-train',\n",
       " 'kitti_test_6000',\n",
       " 'kitti_train_6000',\n",
       " 'kitti_validation_6000']"
      ]
     },
     "execution_count": 8,
     "metadata": {},
     "output_type": "execute_result"
    }
   ],
   "source": [
    "fo.list_datasets()"
   ]
  },
  {
   "cell_type": "markdown",
   "metadata": {},
   "source": [
    "## Raw dataset preparation"
   ]
  },
  {
   "cell_type": "markdown",
   "metadata": {},
   "source": [
    "If Raw datasets already preapred \"Raw dataset preparation\" can be skipped - move to \"TF Record CReation\""
   ]
  },
  {
   "cell_type": "markdown",
   "metadata": {},
   "source": [
    "### KITTI Dataset"
   ]
  },
  {
   "cell_type": "markdown",
   "metadata": {},
   "source": [
    "#### Training and Validation"
   ]
  },
  {
   "cell_type": "code",
   "execution_count": 218,
   "metadata": {},
   "outputs": [
    {
     "name": "stdout",
     "output_type": "stream",
     "text": [
      "Split 'train' already downloaded\n",
      "Loading existing dataset 'kitti-train'. To reload from disk, either delete the existing dataset or provide a custom `dataset_name` to use\n"
     ]
    }
   ],
   "source": [
    "kitti_train = foz.load_zoo_dataset(\"kitti\", split=\"train\")"
   ]
  },
  {
   "cell_type": "markdown",
   "metadata": {},
   "source": [
    "Extract 20% from training set for validation"
   ]
  },
  {
   "cell_type": "code",
   "execution_count": 219,
   "metadata": {},
   "outputs": [],
   "source": [
    "index = int(len(kitti_train) * 0.8)\n",
    "kitti_train_view = kitti_train.shuffle()[:index]\n",
    "kitti_validation_view = kitti_train.shuffle()[index:]"
   ]
  },
  {
   "cell_type": "markdown",
   "metadata": {},
   "source": [
    "Check if all images are used and none is duplicated (due to rounding of index)"
   ]
  },
  {
   "cell_type": "code",
   "execution_count": 220,
   "metadata": {},
   "outputs": [
    {
     "data": {
      "text/plain": [
       "True"
      ]
     },
     "execution_count": 220,
     "metadata": {},
     "output_type": "execute_result"
    }
   ],
   "source": [
    "len(kitti_train_view) + len(kitti_validation_view) == len(kitti_train)"
   ]
  },
  {
   "cell_type": "code",
   "execution_count": 221,
   "metadata": {},
   "outputs": [
    {
     "ename": "ValueError",
     "evalue": "A dataset with name 'kitti_train_6000' already exists",
     "output_type": "error",
     "traceback": [
      "\u001b[1;31m---------------------------------------------------------------------------\u001b[0m",
      "\u001b[1;31mValueError\u001b[0m                                Traceback (most recent call last)",
      "\u001b[1;32md:\\_moje\\AGH\\Magisterka\\Master-Thesis\\model_training\\OD\\data\\dataset_handler.ipynb Komórka 21\u001b[0m in \u001b[0;36m<cell line: 3>\u001b[1;34m()\u001b[0m\n\u001b[0;32m      <a href='vscode-notebook-cell:/d%3A/_moje/AGH/Magisterka/Master-Thesis/model_training/OD/data/dataset_handler.ipynb#X23sZmlsZQ%3D%3D?line=0'>1</a>\u001b[0m kitti_train_6000 \u001b[39m=\u001b[39m fo\u001b[39m.\u001b[39mDataset()\n\u001b[0;32m      <a href='vscode-notebook-cell:/d%3A/_moje/AGH/Magisterka/Master-Thesis/model_training/OD/data/dataset_handler.ipynb#X23sZmlsZQ%3D%3D?line=1'>2</a>\u001b[0m kitti_train_6000\u001b[39m.\u001b[39mmerge_samples(kitti_train_view)\n\u001b[1;32m----> <a href='vscode-notebook-cell:/d%3A/_moje/AGH/Magisterka/Master-Thesis/model_training/OD/data/dataset_handler.ipynb#X23sZmlsZQ%3D%3D?line=2'>3</a>\u001b[0m kitti_train_6000\u001b[39m.\u001b[39;49mname \u001b[39m=\u001b[39m \u001b[39m'\u001b[39m\u001b[39mkitti_train_6000\u001b[39m\u001b[39m'\u001b[39m\n",
      "File \u001b[1;32m~\\AppData\\Roaming\\Python\\Python310\\site-packages\\fiftyone\\core\\dataset.py:577\u001b[0m, in \u001b[0;36mDataset.name\u001b[1;34m(self, name)\u001b[0m\n\u001b[0;32m    574\u001b[0m     \u001b[39mreturn\u001b[39;00m\n\u001b[0;32m    576\u001b[0m \u001b[39mif\u001b[39;00m name \u001b[39min\u001b[39;00m list_datasets():\n\u001b[1;32m--> 577\u001b[0m     \u001b[39mraise\u001b[39;00m \u001b[39mValueError\u001b[39;00m(\u001b[39m\"\u001b[39m\u001b[39mA dataset with name \u001b[39m\u001b[39m'\u001b[39m\u001b[39m%s\u001b[39;00m\u001b[39m'\u001b[39m\u001b[39m already exists\u001b[39m\u001b[39m\"\u001b[39m \u001b[39m%\u001b[39m name)\n\u001b[0;32m    579\u001b[0m \u001b[39mtry\u001b[39;00m:\n\u001b[0;32m    580\u001b[0m     \u001b[39mself\u001b[39m\u001b[39m.\u001b[39m_doc\u001b[39m.\u001b[39mname \u001b[39m=\u001b[39m name\n",
      "\u001b[1;31mValueError\u001b[0m: A dataset with name 'kitti_train_6000' already exists"
     ]
    }
   ],
   "source": [
    "kitti_train_6000 = fo.Dataset()\n",
    "kitti_train_6000.merge_samples(kitti_train_view)\n",
    "kitti_train_6000.name = 'kitti_train_6000'"
   ]
  },
  {
   "cell_type": "code",
   "execution_count": 222,
   "metadata": {},
   "outputs": [],
   "source": [
    "kitti_validation_6000 = fo.Dataset()\n",
    "kitti_validation_6000.merge_samples(kitti_validation_view)\n",
    "kitti_validation_6000.name = 'kitti_validation_6000'"
   ]
  },
  {
   "cell_type": "markdown",
   "metadata": {},
   "source": [
    "#### Test"
   ]
  },
  {
   "cell_type": "code",
   "execution_count": 8,
   "metadata": {},
   "outputs": [
    {
     "name": "stdout",
     "output_type": "stream",
     "text": [
      "Downloading split 'test' to 'D:\\_moje\\AGH\\Magisterka\\Master-Thesis\\model_training\\OD\\data\\raw_datasets\\kitti\\test'\n",
      "Parsing dataset metadata\n",
      "Found 7518 samples\n",
      "Dataset info written to 'D:\\_moje\\AGH\\Magisterka\\Master-Thesis\\model_training\\OD\\data\\raw_datasets\\kitti\\info.json'\n",
      "Loading 'kitti' split 'test'\n",
      " 100% |███████████████| 7518/7518 [4.4m elapsed, 0s remaining, 27.7 samples/s]      \n",
      "Dataset 'kitti-test' created\n"
     ]
    }
   ],
   "source": [
    "kitti_test = foz.load_zoo_dataset(\"kitti\", split=\"test\")"
   ]
  },
  {
   "cell_type": "markdown",
   "metadata": {},
   "source": [
    "Take only 1200 samples from test split"
   ]
  },
  {
   "cell_type": "code",
   "execution_count": 9,
   "metadata": {},
   "outputs": [],
   "source": [
    "kitti_test_view = kitti_test.view()\n",
    "kitti_test_view = kitti_test_view.shuffle()[:1200]"
   ]
  },
  {
   "cell_type": "markdown",
   "metadata": {},
   "source": [
    "Save as a new dataset"
   ]
  },
  {
   "cell_type": "code",
   "execution_count": 11,
   "metadata": {},
   "outputs": [],
   "source": [
    "kitti_test_6000 = fo.Dataset()\n",
    "kitti_test_6000.merge_samples(kitti_test_view)\n",
    "kitti_test_6000.name = 'kitti_test_6000'"
   ]
  },
  {
   "cell_type": "markdown",
   "metadata": {},
   "source": [
    "### COCO Dataset"
   ]
  },
  {
   "cell_type": "code",
   "execution_count": 12,
   "metadata": {},
   "outputs": [],
   "source": [
    "def download_coco(split, max_samples):\n",
    "    # Restarting download after connection timeout\n",
    "    try:\n",
    "        coco_train = fo.zoo.load_zoo_dataset(\"coco-2017\", split=split, label_types=[\"detections\"], classes=[\"person\", \"bicycle\", \"car\", \"motorcycle\", \"bus\", \"train\", \"truck\", \n",
    "        \"traffic light\", \"fire hydrant\", \"parking meter\", \"bench\", \"cat\", \"dog\", \"chair\", \"couch\", \"bed\", \"dining table\", \"tv\", \"laptop\"], only_matching=True, max_samples=max_samples)\n",
    "    except:\n",
    "        coco_train = download_coco(split, max_samples)\n",
    "\n",
    "    return coco_train"
   ]
  },
  {
   "cell_type": "code",
   "execution_count": 50,
   "metadata": {},
   "outputs": [
    {
     "name": "stdout",
     "output_type": "stream",
     "text": [
      "Downloading split 'train' to 'D:\\_moje\\AGH\\Magisterka\\Master-Thesis\\model_training\\OD\\data\\raw_datasets\\coco-2017\\train' if necessary\n",
      "Found annotations at 'D:\\_moje\\AGH\\Magisterka\\Master-Thesis\\model_training\\OD\\data\\raw_datasets\\coco-2017\\raw\\instances_train2017.json'\n",
      "11798 images found; downloading the remaining 202\n",
      " 100% |██████████████████| 202/202 [22.0s elapsed, 0s remaining, 10.0 images/s]     \n",
      "Writing annotations for 12000 downloaded samples to 'D:\\_moje\\AGH\\Magisterka\\Master-Thesis\\model_training\\OD\\data\\raw_datasets\\coco-2017\\train\\labels.json'\n",
      "Dataset info written to 'D:\\_moje\\AGH\\Magisterka\\Master-Thesis\\model_training\\OD\\data\\raw_datasets\\coco-2017\\info.json'\n",
      "Loading 'coco-2017' split 'train'\n",
      " 100% |█████████████| 12000/12000 [44.4s elapsed, 0s remaining, 228.1 samples/s]      \n",
      "Dataset 'coco-2017-train-12000' created\n"
     ]
    }
   ],
   "source": [
    "coco_train = download_coco('train', 12000)"
   ]
  },
  {
   "cell_type": "code",
   "execution_count": 217,
   "metadata": {},
   "outputs": [
    {
     "name": "stdout",
     "output_type": "stream",
     "text": [
      "Downloading split 'validation' to 'D:\\_moje\\AGH\\Magisterka\\Master-Thesis\\model_training\\OD\\data\\raw_datasets\\coco-2017\\validation' if necessary\n",
      "Found annotations at 'D:\\_moje\\AGH\\Magisterka\\Master-Thesis\\model_training\\OD\\data\\raw_datasets\\coco-2017\\raw\\instances_val2017.json'\n",
      "300 images found; downloading the remaining 2100\n",
      "  43% |██████\\---------|  907/2100 [2.0m elapsed, 2.4m remaining, 9.2 images/s]     \n",
      "Downloading split 'validation' to 'D:\\_moje\\AGH\\Magisterka\\Master-Thesis\\model_training\\OD\\data\\raw_datasets\\coco-2017\\validation' if necessary\n",
      "Found annotations at 'D:\\_moje\\AGH\\Magisterka\\Master-Thesis\\model_training\\OD\\data\\raw_datasets\\coco-2017\\raw\\instances_val2017.json'\n",
      "1207 images found; downloading the remaining 1193\n",
      "   0% ||---------------|    0/1193 [21.1s elapsed, ? remaining, ? images/s] \n",
      "Downloading split 'validation' to 'D:\\_moje\\AGH\\Magisterka\\Master-Thesis\\model_training\\OD\\data\\raw_datasets\\coco-2017\\validation' if necessary\n",
      "Found annotations at 'D:\\_moje\\AGH\\Magisterka\\Master-Thesis\\model_training\\OD\\data\\raw_datasets\\coco-2017\\raw\\instances_val2017.json'\n",
      "1207 images found; downloading the remaining 1193\n",
      "   0% ||---------------|    0/1193 [21.2s elapsed, ? remaining, ? images/s] \n",
      "Downloading split 'validation' to 'D:\\_moje\\AGH\\Magisterka\\Master-Thesis\\model_training\\OD\\data\\raw_datasets\\coco-2017\\validation' if necessary\n",
      "Found annotations at 'D:\\_moje\\AGH\\Magisterka\\Master-Thesis\\model_training\\OD\\data\\raw_datasets\\coco-2017\\raw\\instances_val2017.json'\n",
      "1207 images found; downloading the remaining 1193\n",
      "   0% |----------------|    2/1193 [21.1s elapsed, 3.5h remaining, 0.1 images/s] \n",
      "Downloading split 'validation' to 'D:\\_moje\\AGH\\Magisterka\\Master-Thesis\\model_training\\OD\\data\\raw_datasets\\coco-2017\\validation' if necessary\n",
      "Found annotations at 'D:\\_moje\\AGH\\Magisterka\\Master-Thesis\\model_training\\OD\\data\\raw_datasets\\coco-2017\\raw\\instances_val2017.json'\n",
      "1211 images found; downloading the remaining 1189\n",
      "   0% |----------------|    2/1189 [21.1s elapsed, 3.5h remaining, 0.1 images/s] \n",
      "Downloading split 'validation' to 'D:\\_moje\\AGH\\Magisterka\\Master-Thesis\\model_training\\OD\\data\\raw_datasets\\coco-2017\\validation' if necessary\n",
      "Found annotations at 'D:\\_moje\\AGH\\Magisterka\\Master-Thesis\\model_training\\OD\\data\\raw_datasets\\coco-2017\\raw\\instances_val2017.json'\n",
      "1214 images found; downloading the remaining 1186\n",
      "   0% ||---------------|    4/1186 [21.1s elapsed, 1.7h remaining, 0.2 images/s] \n",
      "Downloading split 'validation' to 'D:\\_moje\\AGH\\Magisterka\\Master-Thesis\\model_training\\OD\\data\\raw_datasets\\coco-2017\\validation' if necessary\n",
      "Found annotations at 'D:\\_moje\\AGH\\Magisterka\\Master-Thesis\\model_training\\OD\\data\\raw_datasets\\coco-2017\\raw\\instances_val2017.json'\n",
      "1219 images found; downloading the remaining 1181\n",
      "  78% |████████████\\---|  921/1181 [2.2m elapsed, 4.3m remaining, 0.8 images/s]   \n",
      "Downloading split 'validation' to 'D:\\_moje\\AGH\\Magisterka\\Master-Thesis\\model_training\\OD\\data\\raw_datasets\\coco-2017\\validation' if necessary\n",
      "Found annotations at 'D:\\_moje\\AGH\\Magisterka\\Master-Thesis\\model_training\\OD\\data\\raw_datasets\\coco-2017\\raw\\instances_val2017.json'\n",
      "2140 images found; downloading the remaining 260\n",
      "   2% |\\-----------------|   5/260 [21.1s elapsed, 17.9m remaining, 0.2 images/s] \n",
      "Downloading split 'validation' to 'D:\\_moje\\AGH\\Magisterka\\Master-Thesis\\model_training\\OD\\data\\raw_datasets\\coco-2017\\validation' if necessary\n",
      "Found annotations at 'D:\\_moje\\AGH\\Magisterka\\Master-Thesis\\model_training\\OD\\data\\raw_datasets\\coco-2017\\raw\\instances_val2017.json'\n",
      "2146 images found; downloading the remaining 254\n",
      "   0% ||-----------------|   0/254 [21.2s elapsed, ? remaining, ? images/s] \n",
      "Downloading split 'validation' to 'D:\\_moje\\AGH\\Magisterka\\Master-Thesis\\model_training\\OD\\data\\raw_datasets\\coco-2017\\validation' if necessary\n",
      "Found annotations at 'D:\\_moje\\AGH\\Magisterka\\Master-Thesis\\model_training\\OD\\data\\raw_datasets\\coco-2017\\raw\\instances_val2017.json'\n",
      "2146 images found; downloading the remaining 254\n",
      "   0% |/-----------------|   1/254 [21.1s elapsed, 1.5h remaining, 0.1 images/s] \n",
      "Downloading split 'validation' to 'D:\\_moje\\AGH\\Magisterka\\Master-Thesis\\model_training\\OD\\data\\raw_datasets\\coco-2017\\validation' if necessary\n",
      "Found annotations at 'D:\\_moje\\AGH\\Magisterka\\Master-Thesis\\model_training\\OD\\data\\raw_datasets\\coco-2017\\raw\\instances_val2017.json'\n",
      "2148 images found; downloading the remaining 252\n",
      "   0% ||-----------------|   0/252 [21.1s elapsed, ? remaining, ? images/s] \n",
      "Downloading split 'validation' to 'D:\\_moje\\AGH\\Magisterka\\Master-Thesis\\model_training\\OD\\data\\raw_datasets\\coco-2017\\validation' if necessary\n",
      "Found annotations at 'D:\\_moje\\AGH\\Magisterka\\Master-Thesis\\model_training\\OD\\data\\raw_datasets\\coco-2017\\raw\\instances_val2017.json'\n",
      "2150 images found; downloading the remaining 250\n",
      "   1% |------------------|   2/250 [21.2s elapsed, 43.7m remaining, 0.1 images/s] \n",
      "Downloading split 'validation' to 'D:\\_moje\\AGH\\Magisterka\\Master-Thesis\\model_training\\OD\\data\\raw_datasets\\coco-2017\\validation' if necessary\n",
      "Found annotations at 'D:\\_moje\\AGH\\Magisterka\\Master-Thesis\\model_training\\OD\\data\\raw_datasets\\coco-2017\\raw\\instances_val2017.json'\n",
      "2153 images found; downloading the remaining 247\n",
      " 100% |██████████████████| 247/247 [34.2s elapsed, 0s remaining, 9.4 images/s]      \n",
      "Writing annotations for 2400 downloaded samples to 'D:\\_moje\\AGH\\Magisterka\\Master-Thesis\\model_training\\OD\\data\\raw_datasets\\coco-2017\\validation\\labels.json'\n",
      "Dataset info written to 'D:\\_moje\\AGH\\Magisterka\\Master-Thesis\\model_training\\OD\\data\\raw_datasets\\coco-2017\\info.json'\n",
      "Loading 'coco-2017' split 'validation'\n",
      " 100% |███████████████| 2400/2400 [20.6s elapsed, 0s remaining, 117.2 samples/s]      \n",
      "Dataset 'coco-2017-validation-2400' created\n"
     ]
    }
   ],
   "source": [
    "coco_validation = download_coco('validation', 2400)"
   ]
  },
  {
   "cell_type": "code",
   "execution_count": 14,
   "metadata": {},
   "outputs": [
    {
     "name": "stdout",
     "output_type": "stream",
     "text": [
      "Downloading split 'test' to 'D:\\_moje\\AGH\\Magisterka\\Master-Thesis\\model_training\\OD\\data\\raw_datasets\\coco-2017\\test' if necessary\n",
      "Test split is unlabeled; ignoring classes requirement\n",
      "Found test info at 'D:\\_moje\\AGH\\Magisterka\\Master-Thesis\\model_training\\OD\\data\\raw_datasets\\coco-2017\\raw\\image_info_test2017.json'\n",
      "Sufficient images already downloaded\n",
      "Existing download of split 'test' is sufficient\n",
      "Loading existing dataset 'coco-2017-test-2400'. To reload from disk, either delete the existing dataset or provide a custom `dataset_name` to use\n"
     ]
    }
   ],
   "source": [
    "coco_test = download_coco('test', 2400)"
   ]
  },
  {
   "cell_type": "markdown",
   "metadata": {},
   "source": [
    "### BDD Dataset"
   ]
  },
  {
   "cell_type": "markdown",
   "metadata": {},
   "source": [
    "#### Training"
   ]
  },
  {
   "cell_type": "code",
   "execution_count": 4,
   "metadata": {},
   "outputs": [
    {
     "name": "stdout",
     "output_type": "stream",
     "text": [
      "Preparing split 'train' in 'D:\\_moje\\AGH\\Magisterka\\Master-Thesis\\model_training\\OD\\data\\raw_datasets\\bdd100k\\train'\n",
      "Preparing training images...\n",
      "Preparing training labels...\n",
      "Preparing validation images...\n",
      "Preparing validation labels...\n",
      "Preparing test images...\n",
      "Parsing dataset metadata\n",
      "Found 70000 samples\n",
      "Dataset info written to 'D:\\_moje\\AGH\\Magisterka\\Master-Thesis\\model_training\\OD\\data\\raw_datasets\\bdd100k\\info.json'\n",
      "Loading 'bdd100k' split 'train'\n",
      " 100% |█████████████| 70000/70000 [1.0h elapsed, 0s remaining, 42.3 samples/s]      \n",
      "Dataset 'bdd100k-train' created\n"
     ]
    }
   ],
   "source": [
    "bdd_train = foz.load_zoo_dataset(\n",
    "    \"bdd100k\",\n",
    "    split=\"train\",\n",
    "    source_dir=r'raw_datasets/bdd100k/',\n",
    ")"
   ]
  },
  {
   "cell_type": "markdown",
   "metadata": {},
   "source": [
    "Take only 6000 images from shuffled dataset"
   ]
  },
  {
   "cell_type": "code",
   "execution_count": 17,
   "metadata": {},
   "outputs": [],
   "source": [
    "bdd_train_view = bdd_train.view()\n",
    "bdd_train_view = bdd_train_view.shuffle()[:6000]"
   ]
  },
  {
   "cell_type": "markdown",
   "metadata": {},
   "source": [
    "Save view as a new dataset"
   ]
  },
  {
   "cell_type": "code",
   "execution_count": 46,
   "metadata": {},
   "outputs": [],
   "source": [
    "bdd_train_6000 = fo.Dataset()\n",
    "bdd_train_6000.merge_samples(bdd_train_view)\n",
    "bdd_train_6000.name = 'bdd_train_6000'"
   ]
  },
  {
   "cell_type": "markdown",
   "metadata": {},
   "source": [
    "#### Validation"
   ]
  },
  {
   "cell_type": "code",
   "execution_count": 14,
   "metadata": {},
   "outputs": [
    {
     "name": "stdout",
     "output_type": "stream",
     "text": [
      "Split 'validation' already prepared\n",
      "Loading existing dataset 'bdd100k-validation'. To reload from disk, either delete the existing dataset or provide a custom `dataset_name` to use\n"
     ]
    }
   ],
   "source": [
    "bdd_validation = foz.load_zoo_dataset(\n",
    "    \"bdd100k\",\n",
    "    split=\"validation\",\n",
    "    source_dir=r'raw_datasets/bdd100k/',\n",
    ")"
   ]
  },
  {
   "cell_type": "markdown",
   "metadata": {},
   "source": [
    "Take only 1200 images from shuffled dataset"
   ]
  },
  {
   "cell_type": "code",
   "execution_count": 15,
   "metadata": {},
   "outputs": [],
   "source": [
    "bdd_validation_view = bdd_validation.view()\n",
    "bdd_validation_view = bdd_validation_view.shuffle()[:1200]"
   ]
  },
  {
   "cell_type": "markdown",
   "metadata": {},
   "source": [
    "Save view as a new dataset"
   ]
  },
  {
   "cell_type": "code",
   "execution_count": 20,
   "metadata": {},
   "outputs": [],
   "source": [
    "bdd_validation_6000 = fo.Dataset()\n",
    "bdd_validation_6000.merge_samples(bdd_validation_view)\n",
    "bdd_validation_6000.name = 'bdd_validation_6000'"
   ]
  },
  {
   "cell_type": "markdown",
   "metadata": {},
   "source": [
    "#### Test"
   ]
  },
  {
   "cell_type": "code",
   "execution_count": 15,
   "metadata": {},
   "outputs": [
    {
     "name": "stdout",
     "output_type": "stream",
     "text": [
      "Preparing split 'test' in 'D:\\_moje\\AGH\\Magisterka\\Master-Thesis\\model_training\\OD\\data\\raw_datasets\\bdd100k\\test'\n",
      "Parsing dataset metadata\n",
      "Found 20000 samples\n",
      "Dataset info written to 'D:\\_moje\\AGH\\Magisterka\\Master-Thesis\\model_training\\OD\\data\\raw_datasets\\bdd100k\\info.json'\n",
      "Loading 'bdd100k' split 'test'\n",
      " 100% |█████████████| 20000/20000 [3.6m elapsed, 0s remaining, 102.2 samples/s]      \n",
      "Dataset 'bdd100k-test' created\n"
     ]
    }
   ],
   "source": [
    "bdd_test = foz.load_zoo_dataset(\n",
    "    \"bdd100k\",\n",
    "    split=\"test\",\n",
    "    source_dir=r'raw_datasets/bdd100k/',\n",
    ")"
   ]
  },
  {
   "cell_type": "markdown",
   "metadata": {},
   "source": [
    "Take only 1200 images from shuffled dataset"
   ]
  },
  {
   "cell_type": "code",
   "execution_count": 16,
   "metadata": {},
   "outputs": [],
   "source": [
    "bdd_test_view = bdd_test.view()\n",
    "bdd_test_view = bdd_test_view.shuffle()[:1200]"
   ]
  },
  {
   "cell_type": "markdown",
   "metadata": {},
   "source": [
    "Save view as new dataset"
   ]
  },
  {
   "cell_type": "code",
   "execution_count": 17,
   "metadata": {},
   "outputs": [],
   "source": [
    "bdd_test_6000 = fo.Dataset()\n",
    "bdd_test_6000.merge_samples(bdd_test_view)\n",
    "bdd_test_6000.name = 'bdd_test_6000'"
   ]
  },
  {
   "cell_type": "markdown",
   "metadata": {},
   "source": [
    "## Load datasets from disk"
   ]
  },
  {
   "cell_type": "markdown",
   "metadata": {},
   "source": [
    "No need to run this if \"Raw dataset preparation\" was run in this session"
   ]
  },
  {
   "cell_type": "markdown",
   "metadata": {},
   "source": [
    "Train datasets"
   ]
  },
  {
   "cell_type": "code",
   "execution_count": 9,
   "metadata": {},
   "outputs": [],
   "source": [
    "kitti_train_6000 = fo.load_dataset('kitti_train_6000')\n",
    "bdd_train_6000 = fo.load_dataset('bdd_train_6000')\n",
    "coco_train = fo.load_dataset('coco-2017-train-12000')"
   ]
  },
  {
   "cell_type": "markdown",
   "metadata": {},
   "source": [
    "Validation datasets"
   ]
  },
  {
   "cell_type": "code",
   "execution_count": 10,
   "metadata": {},
   "outputs": [],
   "source": [
    "kitti_validation_6000 = fo.load_dataset('kitti_validation_6000')\n",
    "bdd_validation_6000 = fo.load_dataset('bdd_validation_6000')\n",
    "coco_validation = fo.load_dataset('coco-2017-validation-2400')"
   ]
  },
  {
   "cell_type": "markdown",
   "metadata": {},
   "source": [
    "Test datasets"
   ]
  },
  {
   "cell_type": "code",
   "execution_count": 22,
   "metadata": {},
   "outputs": [],
   "source": [
    "kitti_test_6000 = fo.load_dataset('kitti_test_6000')\n",
    "bdd_test_6000 = fo.load_dataset('bdd_test_6000')\n",
    "coco_test = fo.load_dataset('coco-2017-test-2400')"
   ]
  },
  {
   "cell_type": "code",
   "execution_count": 14,
   "metadata": {},
   "outputs": [
    {
     "data": {
      "text/html": [
       "\n",
       "        <iframe\n",
       "            width=\"100%\"\n",
       "            height=\"800\"\n",
       "            src=\"http://localhost:5151/?context=ipython&subscription=ea8b9b16-d2bb-4e0d-ba2b-aa43e8e6e9f0\"\n",
       "            frameborder=\"0\"\n",
       "            allowfullscreen\n",
       "            \n",
       "        ></iframe>\n",
       "        "
      ],
      "text/plain": [
       "<IPython.lib.display.IFrame at 0x28609211480>"
      ]
     },
     "metadata": {},
     "output_type": "display_data"
    },
    {
     "data": {
      "text/plain": [
       "Dataset:     -\n",
       "Session URL: http://localhost:5151/"
      ]
     },
     "execution_count": 14,
     "metadata": {},
     "output_type": "execute_result"
    }
   ],
   "source": [
    "fo.launch_app()"
   ]
  },
  {
   "cell_type": "markdown",
   "metadata": {},
   "source": [
    "## TF Record Creation"
   ]
  },
  {
   "cell_type": "markdown",
   "metadata": {},
   "source": [
    "Need to preproces data only once"
   ]
  },
  {
   "cell_type": "markdown",
   "metadata": {},
   "source": [
    "### Preprocess data"
   ]
  },
  {
   "cell_type": "markdown",
   "metadata": {},
   "source": [
    "Delete images without labels and containing only \"traffic sign\" label from BDD Dataset"
   ]
  },
  {
   "cell_type": "code",
   "execution_count": 23,
   "metadata": {},
   "outputs": [],
   "source": [
    "def preprocess_bdd(ds):\n",
    "    dropped_ids = []\n",
    "    for img in ds:\n",
    "        if img.detections:\n",
    "            det_labels = []\n",
    "            for det in img.detections.detections:\n",
    "                det_labels.append(det.label)\n",
    "            det_labels = set(det_labels)\n",
    "            if len(det_labels) == 1 and \"traffic sign\" in det_labels:\n",
    "                dropped_ids.append(img.id)\n",
    "        else:\n",
    "            dropped_ids.append(img.id)\n",
    "\n",
    "    ds.delete_samples(dropped_ids)\n",
    "    ds.save()\n",
    "\n",
    "    return ds"
   ]
  },
  {
   "cell_type": "code",
   "execution_count": null,
   "metadata": {},
   "outputs": [],
   "source": [
    "bdd_train_6000 = preprocess_bdd(bdd_train_6000)"
   ]
  },
  {
   "cell_type": "code",
   "execution_count": 23,
   "metadata": {},
   "outputs": [],
   "source": [
    "bdd_validation_6000 = preprocess_bdd(bdd_validation_6000)"
   ]
  },
  {
   "cell_type": "markdown",
   "metadata": {},
   "source": [
    "Delete images without labels and with labels containig only \"Misc\" or \"DontCare\" from KITTI dataset"
   ]
  },
  {
   "cell_type": "code",
   "execution_count": 24,
   "metadata": {},
   "outputs": [],
   "source": [
    "def preprocess_kitti(ds):\n",
    "    correct_labels = [\"Car\", \"Pedestrian\", \"Van\", \"Cyclist\", \"Truck\", \"Tram\", \"Person_sitting\"]\n",
    "\n",
    "    dropped_ids = []\n",
    "    for img in ds:\n",
    "        det_labels = []\n",
    "        for det in img.ground_truth.detections:\n",
    "            det_labels.append(det.label)\n",
    "        for label in correct_labels:\n",
    "            if label in det_labels:\n",
    "                break\n",
    "            dropped_ids.append(img.id)\n",
    "\n",
    "    ds.delete_samples(dropped_ids)\n",
    "    ds.save()\n",
    "\n",
    "    return ds"
   ]
  },
  {
   "cell_type": "code",
   "execution_count": 155,
   "metadata": {},
   "outputs": [],
   "source": [
    "kitti_train_6000 = preprocess_kitti(kitti_train_6000)"
   ]
  },
  {
   "cell_type": "code",
   "execution_count": 25,
   "metadata": {},
   "outputs": [],
   "source": [
    "kitti_validation_6000 = preprocess_kitti(kitti_validation_6000)"
   ]
  },
  {
   "cell_type": "markdown",
   "metadata": {},
   "source": [
    "### Input datasets statistics"
   ]
  },
  {
   "cell_type": "code",
   "execution_count": 11,
   "metadata": {},
   "outputs": [],
   "source": [
    "class DatasetStats:\n",
    "    def __init__(self, bdd, kitti, coco):\n",
    "        self.bdd_dataset = bdd\n",
    "        self.kitti_dataset = kitti\n",
    "        self.coco_dataset = coco\n",
    "\n",
    "        coco_labels = self.get_gt_labels(coco)\n",
    "        bdd_labels = self.get_detection_labels(bdd)\n",
    "        kitti_labels = self.get_gt_labels(kitti)\n",
    "\n",
    "        self.bdd = pd.DataFrame({\"labels\": bdd_labels})\n",
    "        self.coco = pd.DataFrame({\"labels\": coco_labels})\n",
    "        self.kitti = pd.DataFrame({\"labels\": kitti_labels})\n",
    "\n",
    "    def get_detection_labels(self, ds):\n",
    "        labels = []\n",
    "        for img in ds:\n",
    "            for det in img.detections.detections:\n",
    "                labels.append(det.label)\n",
    "        \n",
    "        return labels\n",
    "\n",
    "    def get_gt_labels(self, ds):\n",
    "        labels = []\n",
    "        for img in ds:\n",
    "            for det in img.ground_truth.detections:\n",
    "                labels.append(det.label)\n",
    "\n",
    "        return labels\n"
   ]
  },
  {
   "cell_type": "markdown",
   "metadata": {},
   "source": [
    "#### Train"
   ]
  },
  {
   "cell_type": "code",
   "execution_count": 12,
   "metadata": {},
   "outputs": [],
   "source": [
    "train_stats = DatasetStats(bdd_train_6000, kitti_train_6000, coco_train)"
   ]
  },
  {
   "cell_type": "code",
   "execution_count": 16,
   "metadata": {},
   "outputs": [],
   "source": [
    "coco_stats = train_stats.coco.value_counts()"
   ]
  },
  {
   "cell_type": "code",
   "execution_count": 46,
   "metadata": {},
   "outputs": [],
   "source": [
    "coco_new_labels = {\"person\": [coco_stats[\"person\"]], \"car\": [coco_stats[\"car\"]], \"big_car\": [coco_stats[\"truck\"] + coco_stats[\"bus\"]],\n",
    " \"bike\": [coco_stats[\"bicycle\"] + coco_stats[\"motorcycle\"]], \"train\": [coco_stats[\"train\"]], \"traffic_light\": [coco_stats[\"traffic light\"]], \n",
    " \"animal\": [coco_stats[\"cat\"] + coco_stats[\"dog\"]], \"obstacle\": [coco_stats[\"chair\"] + coco_stats[\"dining table\"] + coco_stats[\"bench\"] + \n",
    " coco_stats[\"couch\"] + coco_stats[\"tv\"] + coco_stats[\"laptop\"] + coco_stats[\"bed\"] + coco_stats[\"fire hydrant\"] + coco_stats[\"parking meter\"]]}"
   ]
  },
  {
   "cell_type": "code",
   "execution_count": 47,
   "metadata": {},
   "outputs": [],
   "source": [
    "coco_df = pd.DataFrame(coco_new_labels)"
   ]
  },
  {
   "cell_type": "code",
   "execution_count": 1,
   "execution_count": 12,
   "metadata": {},
   "outputs": [],
   "source": [
    "kitti_new_labels = {\"person\": [kitti_stats[\"Pedestrian\"] + kitti_stats[\"Person_sitting\"]], \"car\": [kitti_stats[\"Car\"]], \"big_car\": [kitti_stats[\"Truck\"] + kitti_stats[\"Van\"]],\n",
    " \"bike\": [kitti_stats[\"Cyclist\"]], \"train\": [kitti_stats[\"Tram\"]], \"traffic_light\": [0], \"animal\": [0], \"obstacle\": [0]}"
   ]
  },
  {
   "cell_type": "markdown",
   "metadata": {},
   "source": [
    "#### Validation"
   ]
  },
  {
   "cell_type": "code",
   "execution_count": 87,
   "metadata": {},
   "outputs": [],
   "source": [
    "validation_stats = DatasetStats(bdd_validation_6000, kitti_validation_6000, coco_validation)"
    "kitti_df = pd.DataFrame(kitti_new_labels)"
   ]
  },
  {
   "cell_type": "markdown",
   "cell_type": "code",
   "execution_count": 56,
   "metadata": {},
   "source": [
    "bdd_stats = train_stats.bdd.value_counts()"
    "### Statistics"
   ]
  },
  {
   "cell_type": "code",
   "execution_count": 88,
   "execution_count": 68,
   "metadata": {},
   "outputs": [],
   "source": [
    "bdd_new_labels = {\"person\": [bdd_stats[\"person\"]], \"car\": [bdd_stats[\"car\"]], \"big_car\": [bdd_stats[\"truck\"] + bdd_stats[\"bus\"]],\n",
    " \"bike\": [bdd_stats[\"bike\"] + bdd_stats[\"motor\"]], \"train\": [bdd_stats[\"train\"]], \"traffic_light\": bdd_stats[\"traffic light\"], \"animal\": [0], \"obstacle\": [0]}"
   ]
  },
  {
   "cell_type": "code",
   "execution_count": 69,
   "metadata": {},
   "outputs": [],
   "source": [
    "bdd_df = pd.DataFrame(bdd_new_labels)"
   ]
  },
  {
   "cell_type": "code",
   "execution_count": 72,
   "metadata": {},
   "outputs": [],
   "source": [
    "stats_type = validation_stats"
    "full_df = coco_df + kitti_df + bdd_df"
   ]
  },
  {
   "cell_type": "code",
   "execution_count": 81,
   "metadata": {},
   "outputs": [
    {
     "data": {
      "text/plain": [
       "<AxesSubplot:>"
      ]
     },
     "execution_count": 81,
     "metadata": {},
     "output_type": "execute_result"
    },
    {
     "data": {
      "application/vnd.jupyter.widget-view+json": {
       "model_id": "903291ce426a410ca1ba9e750aacfe61",
       "version_major": 2,
       "version_minor": 0
      },
      "image/png": "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",
      "text/html": [
       "\n",
       "            <div style=\"display: inline-block;\">\n",
       "                <div class=\"jupyter-widgets widget-label\" style=\"text-align: center;\">\n",
       "                    Figure\n",
       "                </div>\n",
       "                <img src='data:image/png;base64,iVBORw0KGgoAAAANSUhEUgAAAoAAAAHgCAYAAAA10dzkAAAAOXRFWHRTb2Z0d2FyZQBNYXRwbG90bGliIHZlcnNpb24zLjUuMywgaHR0cHM6Ly9tYXRwbG90bGliLm9yZy/NK7nSAAAACXBIWXMAAA9hAAAPYQGoP6dpAAA9YElEQVR4nO3deViU9f7/8deAsjsgLiBFQYoJKeKCSlraNwrTPGl2XE8ux2w54Ibm8s2tLDVLk7TlGKeg89W0TlqmRwrpZImEhuIWkhmGpYClQmiCAr8/Ot4/J/fEGeR+Pq5rrsu57/fcn/c9zuW8/NzLWKqqqqoEAAAA03BydAMAAACwLwIgAACAyRAAAQAATIYACAAAYDIEQAAAAJMhAAIAAJgMARAAAMBkCIAAAAAmQwAEAAAwGQIgAACAyRAAAQAATIYACAAAYDIEQAAAAJMhAAIAAJgMARAAAMBkCIAAAAAmQwAEAAAwGQIgAACAyRAAAQAATIYACAAAYDIEQAAAAJMhAAIAAJgMARAAAMBkCIAAAAAmQwAEAAAwGQIgAACAyRAAAQAATIYACAAAYDIEQAAAAJMhAAIAAJgMARAAAMBkCIAAAAAmQwAEAAAwGQIgAACAyRAAAQAATIYACAAAYDIEQAAAAJMhAAIAAJgMARAAAMBkCIAAAAAmQwAEAAAwGQIgAACAyRAAAQAATIYACAAAYDIEQAAAAJMhAAIAAJgMARAAAMBkCIAAAAAmQwAEAAAwGQIgAACAyRAAAQAATIYACAAAYDIEQAAAAJMhAAIAAJgMARAAAMBkCIAAAAAmU8fRDVzPKisrdfDgQdWrV08Wi8XR7QAAgMtQVVWlX375RQEBAXJyMudcGAHwKhw8eFCBgYGObgMAAPwBBw4c0I033ujoNhyCAHgV6tWrJ+m3D5DVanVwNwAA4HKUlJQoMDDQ+B43IwLgVThz2NdqtRIAAQC4zpj59C1zHvgGAAAwMQIgAACAyRAAAQAATIZzAAEAtVZVVZVOnz6tiooKR7cCO3J2dladOnVMfY7fpRAAAQC1Unl5uQ4dOqQTJ044uhU4gIeHh5o0aSIXFxdHt1IjEQABALVOZWWl8vLy5OzsrICAALm4uDAbZBJVVVUqLy/X4cOHlZeXp5CQENPe7PliCIAAgFqnvLxclZWVCgwMlIeHh6PbgZ25u7urbt26+v7771VeXi43NzdHt1TjEIkBALUWMz/mxd/9xfHuAAAAmAwBEAAAwGQ4BxAAYBpBk9fadbz9c3vadTzgcjEDCABALVZRUaHKykpHt4EahgAIAEAN0q1bN8XFxSkuLk7e3t5q2LChpk2bpqqqKklSWVmZJkyYoBtuuEGenp7q2LGjPvvsM+P1SUlJ8vHx0erVqxUWFiZXV1fl5+frs88+U4cOHeTp6SkfHx917txZ33//vfG61157TU2bNpWLi4tuvfVW/fOf/7Tpy2KxKDExUX369JGHh4dCQkK0evVqu7wnqH4EQAAAapjk5GTVqVNHmzdvVkJCghYsWKDExERJUlxcnDIyMrR8+XLt2LFDf/7zn9W9e3ft3bvXeP2JEyf0/PPPKzExUbt375avr6969+6trl27aseOHcrIyNCjjz5q3Btx1apVGjNmjMaPH69du3bpscce0/Dhw/Wf//zHpq+nn35a/fr1044dO9SjRw8NHjxYR44csd8bg2pjqTrzXwpcsZKSEnl7e6u4uFhWq9XR7aC2m+ntwLGLHTc28AecPHlSeXl5Cg4OtrkH3PVwDmC3bt1UVFSk3bt3GwFt8uTJWr16tVJSUnTLLbcoPz9fAQEBxmuio6PVoUMHzZ49W0lJSRo+fLiys7PVunVrSdKRI0fUoEEDffbZZ+rates5Y3bu3Fm33XablixZYizr16+fjh8/rrVrf3vPLBaLpk6dqlmzZkmSjh8/Li8vL61bt07du3e/4v281i70GZD4/paYAQQAoMbp1KmTzS+XREVFae/evdq5c6cqKirUvHlzeXl5GY8NGzZo3759Rr2Li4vCw8ON576+vho2bJhiYmLUq1cvJSQk6NChQ8b6nJwcde7c2aaHzp07Kycnx2bZ2dv09PSU1WpVUVFRte037IergAEAuE6UlpbK2dlZWVlZcnZ2tlnn5eVl/Nnd3f2cn7576623NHr0aKWkpGjFihWaOnWqUlNT1alTp8sev27dujbPLRYLF5hcp5gBBACghsnMzLR5/uWXXyokJERt2rRRRUWFioqK1KxZM5uHv7//Jbfbpk0bTZkyRZs2bVLLli21bNkySVJoaKjS09NtatPT0xUWFlZ9O4UahRlAAABqmPz8fMXHx+uxxx7T1q1btWjRIs2fP1/NmzfX4MGDNWTIEM2fP19t2rTR4cOHlZaWpvDwcPXsef5zDvPy8rRkyRL96U9/UkBAgHJzc7V3714NGTJEkvTkk0+qX79+atOmjaKjo/XRRx9p5cqVWr9+vT13G3ZEAAQAoIYZMmSIfv31V3Xo0EHOzs4aM2aMHn30UUm/Hcp99tlnNX78eP34449q2LChOnXqpPvvv/+C2/Pw8NCePXuUnJysn3/+WU2aNFFsbKwee+wxSVLv3r2VkJCgF198UWPGjFFwcLDeeustdevWzR67CwfgKuCrwFVEsCuuAgYu28WuAK3punXrpoiICC1cuNDRrVzXuAr44jgHEAAAwGQIgAAAACbDOYAAANQgZ/+sG3CtMAMIAABgMgRAAAAAkyEAAgAAmAwBEAAAwGQIgAAAACZDAAQAADAZAiAAAIDJcB9AAIB52PsnFfkZRdRQzAACAFBLlZeXO7oF1FAEQAAAapDKykrNmzdPzZo1k6urq2666SY999xzkqRJkyapefPm8vDw0C233KJp06bp1KlTxmtnzpypiIgIJSYmKjg4WG5ubo7aDdRwHAIGAKAGmTJlit544w299NJL6tKliw4dOqQ9e/ZIkurVq6ekpCQFBARo586dGjlypOrVq6eJEycar//222/1/vvva+XKlXJ2dnbUbqCGIwACAFBD/PLLL0pISNDixYs1dOhQSVLTpk3VpUsXSdLUqVON2qCgIE2YMEHLly+3CYDl5eV6++231ahRI/s2j+sKARAAgBoiJydHZWVluvvuu8+7fsWKFXr55Ze1b98+lZaW6vTp07JarTY1N998M+EPl8Q5gAAA1BDu7u4XXJeRkaHBgwerR48eWrNmjbZt26annnrqnAs9PD09r3WbqAUIgAAA1BAhISFyd3dXWlraOes2bdqkm2++WU899ZTat2+vkJAQff/99w7oErUBh4ABAKgh3NzcNGnSJE2cOFEuLi7q3LmzDh8+rN27dyskJET5+flavny5IiMjtXbtWq1atcrRLeM6xQwgAAA1yLRp0zR+/HhNnz5doaGh6t+/v4qKivSnP/1J48aNU1xcnCIiIrRp0yZNmzbN0e3iOmWpqqqqcnQT16uSkhJ5e3uruLj4nJNwgWpn718wsBmbXzPA9eXkyZPKy8vjXngmdrHPAN/fzAACAACYDgEQAADAZAiAAAAAJkMABAAAMBkCIAAAgMkQAAEAAEyGAAgAAGAyBEAAAACTIQACAACYDAEQAIAapFu3bho7duwF1wcFBWnhwoV26we1Ux1HNwAAgL20Sm5l1/F2Dt1Z7dvcsmWLPD09q327MBe7zgBWVFRo2rRpCg4Olru7u5o2bapZs2bp7J8jrqqq0vTp09WkSRO5u7srOjpae/futdnOkSNHNHjwYFmtVvn4+GjEiBEqLS21qdmxY4fuuOMOubm5KTAwUPPmzTunn/fee08tWrSQm5ubWrVqpX//+9/XZscBAKgmjRo1koeHh6PbuKDy8nJHt4DLYNcA+Pzzz+u1117T4sWLlZOTo+eff17z5s3TokWLjJp58+bp5Zdf1uuvv67MzEx5enoqJiZGJ0+eNGoGDx6s3bt3KzU1VWvWrNHnn3+uRx991FhfUlKie++9VzfffLOysrL0wgsvaObMmVqyZIlRs2nTJg0cOFAjRozQtm3b1Lt3b/Xu3Vu7du2yz5sBAMAFnD59WnFxcfL29lbDhg01bdo0Y7Lk94eA9+zZoy5dusjNzU1hYWFav369LBaLPvjgg8sa64cfftDAgQPl6+srT09PtW/fXpmZmZKkffv26YEHHpCfn5+8vLwUGRmp9evX27w+KChIs2bN0pAhQ2S1Wm2+j1Fz2TUAbtq0SQ888IB69uypoKAgPfTQQ7r33nu1efNmSb/N/i1cuFBTp07VAw88oPDwcL399ts6ePCg8UHOyclRSkqKEhMT1bFjR3Xp0kWLFi3S8uXLdfDgQUnS0qVLVV5erjfffFO33XabBgwYoNGjR2vBggVGLwkJCerevbuefPJJhYaGatasWWrbtq0WL15sz7cEAIBzJCcnq06dOtq8ebMSEhK0YMECJSYmnlNXUVGh3r17y8PDQ5mZmVqyZImeeuqpyx6ntLRUXbt21Y8//qjVq1dr+/btmjhxoiorK431PXr0UFpamrZt26bu3burV69eys/Pt9nOiy++qNatW2vbtm2aNm3a1e087MKuAfD2229XWlqavvnmG0nS9u3btXHjRt13332SpLy8PBUUFCg6Otp4jbe3tzp27KiMjAxJUkZGhnx8fNS+fXujJjo6Wk5OTsb/WDIyMnTnnXfKxcXFqImJiVFubq6OHj1q1Jw9zpmaM+OcT1lZmUpKSmweAABUt8DAQL300ku69dZbNXjwYI0aNUovvfTSOXWpqanat2+f3n77bbVu3VpdunTRc889d9njLFu2TIcPH9YHH3ygLl26qFmzZurXr5+ioqIkSa1bt9Zjjz2mli1bKiQkRLNmzVLTpk21evVqm+38z//8j8aPH6+mTZuqadOmV7fzsAu7BsDJkydrwIABatGiherWras2bdpo7NixGjx4sCSpoKBAkuTn52fzOj8/P2NdQUGBGjdubLO+Tp068vX1tak53zbOHuNCNWfWn8+cOXPk7e1tPAIDA69o/wEAuBydOnWSxWIxnkdFRWnv3r2qqKiwqcvNzVVgYKD8/f2NZR06dLjscbKzs9WmTRv5+vqed31paakmTJig0NBQ+fj4yMvLSzk5OefMAJ49KYPrg10D4LvvvqulS5dq2bJl2rp1q5KTk/Xiiy8qOTnZnm38YVOmTFFxcbHxOHDggKNbAgDgD3N3d7/o+gkTJmjVqlWaPXu2vvjiC2VnZ6tVq1bnXOjBVcnXH7veBubJJ580ZgElqVWrVvr+++81Z84cDR061PgfTGFhoZo0aWK8rrCwUBEREZIkf39/FRUV2Wz39OnTOnLkiPF6f39/FRYW2tSceX6pmrP/F/V7rq6ucnV1vdLdBgDgipw5pemML7/8UiEhIXJ2drZZfuutt+rAgQMqLCw0jmpt2bLlsscJDw9XYmKijhw5ct5ZwPT0dA0bNkx9+vSR9NuM4P79+69wb1AT2XUG8MSJE3Jysh3S2dnZONk0ODhY/v7+SktLM9aXlJQoMzPTOB8hKipKx44dU1ZWllHz6aefqrKyUh07djRqPv/8c506dcqoSU1N1a233qr69esbNWePc6bmzDgAADhKfn6+4uPjlZubq3feeUeLFi3SmDFjzqm755571LRpUw0dOlQ7duxQenq6pk6dKkk2h5AvZODAgfL391fv3r2Vnp6u7777Tu+//75xPnxISIhWrlyp7Oxsbd++XYMGDTK+s3F9s2sA7NWrl5577jmtXbtW+/fv16pVq7RgwQLjfxYWi0Vjx47Vs88+q9WrV2vnzp0aMmSIAgIC1Lt3b0lSaGiounfvrpEjR2rz5s1KT09XXFycBgwYoICAAEnSoEGD5OLiohEjRmj37t1asWKFEhISFB8fb/QyZswYpaSkaP78+dqzZ49mzpypr776SnFxcfZ8SwAAOMeQIUP066+/qkOHDoqNjdWYMWPOe3sVZ2dnffDBByotLVVkZKQeeeQR4ypgNze3S47j4uKiTz75RI0bN1aPHj3UqlUrzZ0715hpXLBggerXr6/bb79dvXr1UkxMjNq2bVu9OwuHsFSdfRfma+yXX37RtGnTtGrVKhUVFSkgIEADBw7U9OnTjSt2q6qqNGPGDC1ZskTHjh1Tly5d9Oqrr6p58+bGdo4cOaK4uDh99NFHcnJyUt++ffXyyy/Ly8vLqNmxY4diY2O1ZcsWNWzYUKNGjdKkSZNs+nnvvfc0depU7d+/XyEhIZo3b5569Ohx2ftTUlIib29vFRcXy2q1XuW7A1zCTG8Hjl3suLGBP+DkyZPKy8tTcHDwZQWh2iQ9PV1dunTRt99+a+orci/2GeD7284BsLbhAwS7IgACl81MAXDVqlXy8vJSSEiIvv32W40ZM0b169fXxo0bHd2aQxEAL86uh4ABAED1+uWXXxQbG6sWLVpo2LBhioyM1IcffihJmj17try8vM77OHMPXpiTXa8CBgAA1WvIkCEaMmTIedc9/vjj6tev33nXXeoWMKjdCIAAANRSvr6+F7zJM8yNQ8AAAAAmQwAEAAAwGQIgAACAyRAAAQAATIYACAAAYDIEQAAAapBu3bpp7NixF1wfFBSkhQsXGs8tFos++OCDa94XahduAwMAMI2cFqF2HS90T061b3PLli3y9PSs9u3CXAiAAABcRxo1auToFlALcAgYAIAa5vTp04qLi5O3t7caNmyoadOmqaqqStK5h4B/b8aMGWrSpIl27NghSdq4caPuuOMOubu7KzAwUKNHj9bx48ftsRuowQiAAADUMMnJyapTp442b96shIQELViwQImJiRd9TVVVlUaNGqW3335bX3zxhcLDw7Vv3z51795dffv21Y4dO7RixQpt3LhRcXFxdtoT1FQcAgYAoIYJDAzUSy+9JIvFoltvvVU7d+7USy+9pJEjR563/vTp0/rLX/6ibdu2aePGjbrhhhskSXPmzNHgwYONi0pCQkL08ssvq2vXrnrttdfk5uZmr11CDUMABACghunUqZMsFovxPCoqSvPnz1dFRcV568eNGydXV1d9+eWXatiwobF8+/bt2rFjh5YuXWosq6qqUmVlpfLy8hQaat+LYlBzcAgYAIDr3D333KMff/xRH3/8sc3y0tJSPfbYY8rOzjYe27dv1969e9W0aVMHdYuagBlAAABqmMzMTJvnX375pUJCQuTs7Hze+j/96U/q1auXBg0aJGdnZw0YMECS1LZtW3399ddq1qzZNe8Z1xdmAAEAqGHy8/MVHx+v3NxcvfPOO1q0aJHGjBlz0df06dNH//znPzV8+HD961//kiRNmjRJmzZtUlxcnLKzs7V37159+OGHXAQCZgABAKhphgwZol9//VUdOnSQs7OzxowZo0cfffSSr3vooYdUWVmphx9+WE5OTnrwwQe1YcMGPfXUU7rjjjtUVVWlpk2bqn///nbYC9RklqozNxbCFSspKZG3t7eKi4tltVod3Q5qu5neDhy72HFjA3/AyZMnlZeXp+DgYK50NamLfQb4/uYQMAAAgOkQAAEAAEyGAAgAAGAyBEAAAACTIQACAACYDAEQAADAZAiAAAAAJkMABAAAMBkCIAAAgMkQAAEAqKWCgoK0cOFCR7eBGojfAgYAmMYrj39q1/FiX/+fK35Nt27dFBERUS3BbcuWLfL09Lzq7aD2IQACAHAdqaqqUkVFherUufRXeKNGjezQEa5HHAIGAKCGGDZsmDZs2KCEhARZLBZZLBYlJSXJYrFo3bp1ateunVxdXbVx40bt27dPDzzwgPz8/OTl5aXIyEitX7/eZnu/PwRssViUmJioPn36yMPDQyEhIVq9erWd9xI1AQEQAIAaIiEhQVFRURo5cqQOHTqkQ4cOKTAwUJI0efJkzZ07Vzk5OQoPD1dpaal69OihtLQ0bdu2Td27d1evXr2Un59/0TGefvpp9evXTzt27FCPHj00ePBgHTlyxB67hxqEAAgAQA3h7e0tFxcXeXh4yN/fX/7+/nJ2dpYkPfPMM7rnnnvUtGlT+fr6qnXr1nrsscfUsmVLhYSEaNasWWratOklZ/SGDRumgQMHqlmzZpo9e7ZKS0u1efNme+weahACIAAA14H27dvbPC8tLdWECRMUGhoqHx8feXl5KScn55IzgOHh4cafPT09ZbVaVVRUdE16Rs3FRSAAAFwHfn8174QJE5SamqoXX3xRzZo1k7u7ux566CGVl5dfdDt169a1eW6xWFRZWVnt/aJmIwACAFCDuLi4qKKi4pJ16enpGjZsmPr06SPptxnB/fv3X+PuUFtwCBgAgBokKChImZmZ2r9/v3766acLzs6FhIRo5cqVys7O1vbt2zVo0CBm8nDZCIAAANQgEyZMkLOzs8LCwtSoUaMLntO3YMEC1a9fX7fffrt69eqlmJgYtW3b1s7d4nplqaqqqnJ0E9erkpISeXt7q7i4WFar1dHtoLab6e3AsYsdNzbwB5w8eVJ5eXkKDg6Wm5ubo9uBA1zsM8D3NzOAAAAApkMABAAAMBkCIAAAgMkQAAEAAEyGAAgAAGAyBEAAAACTIQACAACYDAEQAADAZAiAAAAAJkMABACgljpx4oT69u0rq9Uqi8WiY8eOnXdZUFCQFi5ceNXjJSUlycfHx3g+c+ZMRUREXNE2unXrprFjx151L7i4Oo5uAAAAe5nf/367jjd+xZorfk23bt0UERFRLYEsOTlZX3zxhTZt2qSGDRvK29tbr7/++jnLtmzZIk9Pz6se7/cmTJigUaNGVft2LRaLVq1apd69e1f7ts2CAAgAwHWkqqpKFRUVqlPn0l/h+/btU2hoqFq2bHnRZY0aNbomvXp5ecnLy+uabBtXh0PAAADUEMOGDdOGDRuUkJAgi8Uii8WipKQkWSwWrVu3Tu3atZOrq6s2btyoffv26YEHHpCfn5+8vLwUGRmp9evXG9vq1q2b5s+fr88//1wWi0XdunU77zJJ5xwCPnbsmB577DH5+fnJzc1NLVu21Jo1Vz6b+ftDwKdPn9bo0aPl4+OjBg0aaNKkSRo6dOg5M3mVlZWaOHGifH195e/vr5kzZxrrgoKCJEl9+vSRxWIxnuPKEAABAKghEhISFBUVpZEjR+rQoUM6dOiQAgMDJUmTJ0/W3LlzlZOTo/DwcJWWlqpHjx5KS0vTtm3b1L17d/Xq1Uv5+fmSpJUrV2rkyJGKiorSoUOHtHLlyvMu+73Kykrdd999Sk9P1//93//p66+/1ty5c+Xs7HzV+/f8889r6dKleuutt5Senq6SkhJ98MEH59QlJyfL09NTmZmZmjdvnp555hmlpqZKkrZs2SJJeuutt3To0CHjOa4Mh4ABAKghvL295eLiIg8PD/n7+0uS9uzZI0l65plndM899xi1vr6+at26tfF81qxZWrVqlVavXq24uDj5+vrKw8NDLi4uxrYknXfZ2davX6/NmzcrJydHzZs3lyTdcsst1bJ/ixYt0pQpU9SnTx9J0uLFi/Xvf//7nLrw8HDNmDFDkhQSEqLFixcrLS1N99xzj3G42sfH54L7gEtjBhAAgOtA+/btbZ6XlpZqwoQJCg0NlY+Pj7y8vJSTk2PMAP5R2dnZuvHGG43wV12Ki4tVWFioDh06GMucnZ3Vrl27c2rDw8Ntnjdp0kRFRUXV2o/ZMQMIAMB14PdX6U6YMEGpqal68cUX1axZM7m7u+uhhx5SeXn5VY3j7u5+Va+vDnXr1rV5brFYVFlZ6aBuaidmAAEAqEFcXFxUUVFxybr09HQNGzZMffr0UatWreTv76/9+/df9fjh4eH64Ycf9M0331z1ts7m7e0tPz8/m3P2KioqtHXr1iveVt26dS/rPcKFEQABAKhBgoKClJmZqf379+unn3664MxXSEiIVq5cqezsbG3fvl2DBg2qllmyrl276s4771Tfvn2VmpqqvLw8rVu3TikpKVe97VGjRmnOnDn68MMPlZubqzFjxujo0aOyWCxXtJ2goCClpaWpoKBAR48eveq+zIgACABADTJhwgQ5OzsrLCxMjRo1uuA5fQsWLFD9+vV1++23q1evXoqJiVHbtm2rpYf3339fkZGRGjhwoMLCwjRx4sRqmXGbNGmSBg4cqCFDhigqKkpeXl6KiYmRm5vbFW1n/vz5Sk1NVWBgoNq0aXPVfZmRpaqqqsrRTVyvSkpK5O3treLiYlmtVke3g9puprcDxy523NjAH3Dy5Enl5eUpODj4isMF7KeyslKhoaHq16+fZs2aVa3bvthngO9vLgIBAAB28v333+uTTz5R165dVVZWpsWLFysvL0+DBg1ydGumwyFgAABwWe677z7j591+/5g9e/YlX+/k5KSkpCRFRkaqc+fO2rlzp9avX6/Q0FA7dI+zMQMIAAAuS2Jion799dfzrvP19b3k6wMDA5Wenl7dbeEPIAACAIDLcsMNNzi6BVQTux8C/vHHH/WXv/xFDRo0kLu7u1q1aqWvvvrKWF9VVaXp06erSZMmcnd3V3R0tPbu3WuzjSNHjmjw4MGyWq3y8fHRiBEjVFpaalOzY8cO3XHHHXJzc1NgYKDmzZt3Ti/vvfeeWrRoITc3N7Vq1eq8P0cDAABQ29g1AB49elSdO3dW3bp1tW7dOn399deaP3++6tevb9TMmzdPL7/8sl5//XVlZmbK09NTMTExOnnypFEzePBg7d69W6mpqVqzZo0+//xzPfroo8b6kpIS3Xvvvbr55puVlZWlF154QTNnztSSJUuMmk2bNmngwIEaMWKEtm3bpt69e6t3797atWuXfd4MAAAAB7HrbWAmT56s9PR0ffHFF+ddX1VVpYCAAI0fP14TJkyQ9NtvB/r5+SkpKUkDBgxQTk6OwsLCtGXLFuN3EVNSUtSjRw/98MMPCggI0GuvvaannnpKBQUFcnFxMcb+4IMPjB/V7t+/v44fP641a9YY43fq1EkRERF6/fXXL2t/uIwcdsVtYIDLxm1gwG1gLs6uM4CrV69W+/bt9ec//1mNGzdWmzZt9MYbbxjr8/LyVFBQoOjoaGOZt7e3OnbsqIyMDElSRkaGfHx8bH4UOzo6Wk5OTsrMzDRq7rzzTiP8SVJMTIxyc3ONO4ZnZGTYjHOm5sw451NWVqaSkhKbBwAAwPXGrgHwu+++02uvvaaQkBB9/PHHeuKJJzR69GglJydLkgoKCiRJfn5+Nq/z8/Mz1hUUFKhx48Y26+vUqSNfX1+bmvNt4+wxLlRzZv35zJkzR97e3sYjMDDwivYfAACgJrBrAKysrFTbtm01e/ZstWnTRo8++qhGjhx52YdcHW3KlCkqLi42HgcOHHB0SwAA2EhKSpKPj0+tGQfXhl1vA9OkSROFhYXZLAsNDdX7778vSfL395ckFRYWqkmTJkZNYWGhIiIijJqioiKbbZw+fVpHjhwxXu/v76/CwkKbmjPPL1VzZv35uLq6ytXV9bL2FQBQ8/ww+fznoF8rN869w67jSb+d496jRw+7j4vri11nADt37qzc3FybZd98841uvvlmSVJwcLD8/f2VlpZmrC8pKVFmZqaioqIkSVFRUTp27JiysrKMmk8//VSVlZXq2LGjUfP555/r1KlTRk1qaqpuvfVW44rjqKgom3HO1JwZBwCA65G7u/s5p0oBv2fXADhu3Dh9+eWXmj17tr799lstW7ZMS5YsUWxsrCTJYrFo7NixevbZZ7V69Wrt3LlTQ4YMUUBAgHr37i3ptxnD7t27a+TIkdq8ebPS09MVFxenAQMGKCAgQJI0aNAgubi4aMSIEdq9e7dWrFihhIQExcfHG72MGTNGKSkpmj9/vvbs2aOZM2fqq6++UlxcnD3fEgAAbKSkpKhLly7y8fFRgwYNdP/992vfvn2SpP3798tisWjlypW666675OHhodatW9tcwPj7Q7MzZ85URESE3nzzTd10003y8vLS3/72N1VUVGjevHny9/dX48aN9dxzz9n0sWDBArVq1Uqenp4KDAzU3/72t3PuuYvrl10DYGRkpFatWqV33nlHLVu21KxZs7Rw4UINHjzYqJk4caJGjRqlRx99VJGRkSotLVVKSorNJdxLly5VixYtdPfdd6tHjx7q0qWLzT3+vL299cknnygvL0/t2rXT+PHjNX36dJt7Bd5+++1GAG3durX+9a9/6YMPPlDLli3t82YAAHAex48fV3x8vL766iulpaXJyclJffr0UWVlpVHz1FNPacKECcrOzlbz5s01cOBAnT59+oLb3Ldvn9atW6eUlBS98847+sc//qGePXvqhx9+0IYNG/T8889r6tSpxt00pN9+t/fll1/W7t27lZycrE8//VQTJ068pvsO+7HrfQBrG+4jBLviPoDAZbvQPeCux3MAf/rpJzVq1Eg7d+6Ul5eXgoODlZiYqBEjRkiSvv76a912223KyclRixYtlJSUpLFjx+rYsWOSfpsBfOGFF1RQUKB69epJkrp3767c3Fzt27dPTk6/zQW1aNFCw4YN0+TJk8/bx7/+9S89/vjj+umnnyTpnHFqGu4DeHF2/yk4AABwYXv37tXAgQN1yy23yGq1KigoSJKUn59v1ISHhxt/PnPR5O8vkDxbUFCQEf6k3257FhYWZoS/M8vO3sb69et1991364YbblC9evX08MMP6+eff9aJEyeueh/heARAAABqkF69eunIkSN64403lJmZaRyWLS8vN2rq1q1r/NlisUiSzSHi3zu7/sxrzrfszDb279+v+++/X+Hh4Xr//feVlZWlV1555Zw+cP2y621gAADAhf3888/Kzc3VG2+8oTvu+O3w8caNG+3eR1ZWliorKzV//nxjlvDdd9+1ex+4dgiAAADUEPXr11eDBg20ZMkSNWnSRPn5+Rc8J+9aatasmU6dOqVFixapV69eSk9Pv25+tAGXh0PAAADUEE5OTlq+fLmysrLUsmVLjRs3Ti+88ILd+2jdurUWLFig559/Xi1bttTSpUs1Z84cu/eBa4ergK8CVxHBrrgKGLhsF7sCFObAVcAXxwwgAACAyRAAAQAATIYACAAAYDIEQAAAAJMhAAIAAJgMARAAAMBkCIAAAAAmQwAEAAAwGQIgAACAyRAAAQC4Tnz22WeyWCw6duyYo1uxMXPmTEVERDi6DVyBOo5uAAAAe5k5c2atHu9SPvvsM9111106evSofHx8HN0OHIgZQAAAAJMhAAIAUIOUlZVp9OjRaty4sdzc3NSlSxdt2bLFpiY9PV3h4eFyc3NTp06dtGvXLmPd999/r169eql+/fry9PTUbbfdpn//+9/av3+/7rrrLklS/fr1ZbFYNGzYMElSSkqKunTpIh8fHzVo0ED333+/9u3bZzPmDz/8oIEDB8rX11eenp5q3769MjMzL7gfiYmJCg0NlZubm1q0aKFXX321mt4hVAcOAQMAUINMnDhR77//vpKTk3XzzTdr3rx5iomJ0bfffmvUPPnkk0pISJC/v7/+93//V7169dI333yjunXrKjY2VuXl5fr888/l6empr7/+Wl5eXgoMDNT777+vvn37Kjc3V1arVe7u7pKk48ePKz4+XuHh4SotLdX06dPVp08fZWdny8nJSaWlperatatuuOEGrV69Wv7+/tq6dasqKyvPuw9Lly7V9OnTtXjxYrVp00bbtm3TyJEj5enpqaFDh9rlfcTFEQABAKghjh8/rtdee01JSUm67777JElvvPGGUlNT9Y9//EORkZGSpBkzZuiee+6RJCUnJ+vGG2/UqlWr1K9fP+Xn56tv375q1aqVJOmWW24xtu/r6ytJaty4sc05gH379rXp480331SjRo309ddfq2XLllq2bJkOHz6sLVu2GNto1qzZBfdjxowZmj9/vh588EFJUnBwsL7++mv9/e9/JwDWEBwCBgCghti3b59OnTqlzp07G8vq1q2rDh06KCcnx1gWFRVl/NnX11e33nqrsX706NF69tln1blzZ82YMUM7duy45Lh79+7VwIEDdcstt8hqtSooKEiSlJ+fL0nKzs5WmzZtjPB3McePH9e+ffs0YsQIeXl5GY9nn332nMPKcBwCIAAAtcgjjzyi7777Tg8//LB27typ9u3ba9GiRRd9Ta9evXTkyBG98cYbyszMNM7tKy8vlyTjUPHlKC0tlfTbzGV2drbx2LVrl7788ss/uFeobgRAAABqiKZNm8rFxUXp6enGslOnTmnLli0KCwszlp0dpI4ePapvvvlGoaGhxrLAwEA9/vjjWrlypcaPH6833nhDkuTi4iJJqqioMGp//vln5ebmaurUqbr77rsVGhqqo0eP2vQVHh6u7OxsHTly5JL74Ofnp4CAAH333Xdq1qyZzSM4OPgK3xFcK5wDCABADeHp6aknnnhCTz75pHx9fXXTTTdp3rx5OnHihEaMGKHt27dLkp555hk1aNBAfn5+euqpp9SwYUP17t1bkjR27Fjdd999at68uY4ePar//Oc/Rji8+eabZbFYtGbNGvXo0UPu7u6qX7++GjRooCVLlqhJkybKz8/X5MmTbfoaOHCgZs+erd69e2vOnDlq0qSJtm3bpoCAAJvD0Wc8/fTTGj16tLy9vdW9e3eVlZXpq6++0tGjRxUfH39t30RcFmYAAQCoQebOnau+ffvq4YcfVtu2bfXtt9/q448/Vv369W1qxowZo3bt2qmgoEAfffSRzexebGysQkND1b17dzVv3ty4BcsNN9ygp59+WpMnT5afn5/i4uLk5OSk5cuXKysrSy1bttS4ceP0wgsv2PTk4uKiTz75RI0bN1aPHj3UqlUrzZ07V87Ozufdh0ceeUSJiYl666231KpVK3Xt2lVJSUnMANYglqqqqipHN3G9Kikpkbe3t4qLi2W1Wh3dDmq7md4OHLvYcWMDf8DJkyeVl5en4OBgubm5ObodOMDFPgN8fzMDCAAAYDoEQAAAAJMhAAIAAJgMARAAAMBkCIAAAAAmQwAEANRa3OjCvPi7vzgCIACg1qlbt64k6cSJEw7uBI5y5u/+zGcBtvglEABArePs7CwfHx8VFRVJkjw8PGSxWBzcFeyhqqpKJ06cUFFRkXx8fC54s2qzIwACAGolf39/STJCIMzFx8fH+AzgXARAAECtZLFY1KRJEzVu3FinTp1ydDuwo7p16zLzdwkEQABArebs7EwYAH6Hi0AAAABMhgAIAABgMgRAAAAAkyEAAgAAmAwBEAAAwGQIgAAAACZDAAQAADAZAiAAAIDJEAABAABMhgAIAABgMgRAAAAAkyEAAgAAmAwBEAAAwGQIgAAAACZDAAQAADCZOo5uALieBE1e67Cx97s5bGgAQC3DDCAAAIDJEAABAABMhgAIAABgMgRAAAAAkyEAAgAAmAwBEAAAwGQIgAAAACZDAAQAADAZAiAAAIDJEAABAABMhgAIAABgMgRAAAAAk3FoAJw7d64sFovGjh1rLDt58qRiY2PVoEEDeXl5qW/fviosLLR5XX5+vnr27CkPDw81btxYTz75pE6fPm1T89lnn6lt27ZydXVVs2bNlJSUdM74r7zyioKCguTm5qaOHTtq8+bN12I3AQAAahSHBcAtW7bo73//u8LDw22Wjxs3Th999JHee+89bdiwQQcPHtSDDz5orK+oqFDPnj1VXl6uTZs2KTk5WUlJSZo+fbpRk5eXp549e+quu+5Sdna2xo4dq0ceeUQff/yxUbNixQrFx8drxowZ2rp1q1q3bq2YmBgVFRVd+50HAABwIEtVVVWVvQctLS1V27Zt9eqrr+rZZ59VRESEFi5cqOLiYjVq1EjLli3TQw89JEnas2ePQkNDlZGRoU6dOmndunW6//77dfDgQfn5+UmSXn/9dU2aNEmHDx+Wi4uLJk2apLVr12rXrl3GmAMGDNCxY8eUkpIiSerYsaMiIyO1ePFiSVJlZaUCAwM1atQoTZ48+bL2o6SkRN7e3iouLpbVaq3Otwg1VNDktQ4be7/bIIeNrZnFjhsbAKoZ398OmgGMjY1Vz549FR0dbbM8KytLp06dslneokUL3XTTTcrIyJAkZWRkqFWrVkb4k6SYmBiVlJRo9+7dRs3vtx0TE2Nso7y8XFlZWTY1Tk5Oio6ONmoAAABqqzr2HnD58uXaunWrtmzZcs66goICubi4yMfHx2a5n5+fCgoKjJqzw9+Z9WfWXaympKREv/76q44ePaqKiorz1uzZs+eCvZeVlamsrMx4XlJScom9BQAAqHnsOgN44MABjRkzRkuXLpWbm5s9h64Wc+bMkbe3t/EIDAx0dEsAAABXzK4BMCsrS0VFRWrbtq3q1KmjOnXqaMOGDXr55ZdVp04d+fn5qby8XMeOHbN5XWFhofz9/SVJ/v7+51wVfOb5pWqsVqvc3d3VsGFDOTs7n7fmzDbOZ8qUKSouLjYeBw4c+EPvAwAAgCPZNQDefffd2rlzp7Kzs41H+/btNXjwYOPPdevWVVpamvGa3Nxc5efnKyoqSpIUFRWlnTt32lytm5qaKqvVqrCwMKPm7G2cqTmzDRcXF7Vr186mprKyUmlpaUbN+bi6uspqtdo8AAAArjd2PQewXr16atmypc0yT09PNWjQwFg+YsQIxcfHy9fXV1arVaNGjVJUVJQ6deokSbr33nsVFhamhx9+WPPmzVNBQYGmTp2q2NhYubq6SpIef/xxLV68WBMnTtRf//pXffrpp3r33Xe1du3/v4IzPj5eQ4cOVfv27dWhQwctXLhQx48f1/Dhw+30bgAAADiG3S8CuZSXXnpJTk5O6tu3r8rKyhQTE6NXX33VWO/s7Kw1a9boiSeeUFRUlDw9PTV06FA988wzRk1wcLDWrl2rcePGKSEhQTfeeKMSExMVExNj1PTv31+HDx/W9OnTVVBQoIiICKWkpJxzYQgAAEBt45D7ANYW3EfIfLgPIABc//j+5reAAQAATIcACAAAYDIEQAAAAJMhAAIAAJgMARAAAMBkCIAAAAAmQwAEAAAwGQIgAACAyRAAAQAATIYACAAAYDIEQAAAAJMhAAIAAJgMARAAAMBkCIAAAAAmQwAEAAAwGQIgAACAyRAAAQAATIYACAAAYDIEQAAAAJMhAAIAAJgMARAAAMBkCIAAAAAmQwAEAAAwGQIgAACAyRAAAQAATIYACAAAYDIEQAAAAJMhAAIAAJgMARAAAMBkCIAAAAAmQwAEAAAwGQIgAACAyRAAAQAATIYACAAAYDIEQAAAAJMhAAIAAJgMARAAAMBkCIAAAAAmQwAEAAAwGQIgAACAyRAAAQAATIYACAAAYDIEQAAAAJMhAAIAAJgMARAAAMBkCIAAAAAmQwAEAAAwGQIgAACAyRAAAQAATIYACAAAYDIEQAAAAJMhAAIAAJgMARAAAMBkCIAAAAAmQwAEAAAwGQIgAACAyRAAAQAATIYACAAAYDIEQAAAAJMhAAIAAJgMARAAAMBkCIAAAAAmQwAEAAAwGQIgAACAyRAAAQAATIYACAAAYDJ2D4Bz5sxRZGSk6tWrp8aNG6t3797Kzc21qTl58qRiY2PVoEEDeXl5qW/fviosLLSpyc/PV8+ePeXh4aHGjRvrySef1OnTp21qPvvsM7Vt21aurq5q1qyZkpKSzunnlVdeUVBQkNzc3NSxY0dt3ry52vcZAACgJrF7ANywYYNiY2P15ZdfKjU1VadOndK9996r48ePGzXjxo3TRx99pPfee08bNmzQwYMH9eCDDxrrKyoq1LNnT5WXl2vTpk1KTk5WUlKSpk+fbtTk5eWpZ8+euuuuu5Sdna2xY8fqkUce0ccff2zUrFixQvHx8ZoxY4a2bt2q1q1bKyYmRkVFRfZ5MwAAABzAUlVVVeXIBg4fPqzGjRtrw4YNuvPOO1VcXKxGjRpp2bJleuihhyRJe/bsUWhoqDIyMtSpUyetW7dO999/vw4ePCg/Pz9J0uuvv65Jkybp8OHDcnFx0aRJk7R27Vrt2rXLGGvAgAE6duyYUlJSJEkdO3ZUZGSkFi9eLEmqrKxUYGCgRo0apcmTJ1+y95KSEnl7e6u4uFhWq7W63xrUQEGT1zps7P1ugxw2tmYWO25sAKhmfH/XgHMAi4t/+2Lx9fWVJGVlZenUqVOKjo42alq0aKGbbrpJGRkZkqSMjAy1atXKCH+SFBMTo5KSEu3evduoOXsbZ2rObKO8vFxZWVk2NU5OToqOjjZqAAAAaqM6jhy8srJSY8eOVefOndWyZUtJUkFBgVxcXOTj42NT6+fnp4KCAqPm7PB3Zv2ZdRerKSkp0a+//qqjR4+qoqLivDV79uw5b79lZWUqKysznpeUlFzhHgMAADieQ2cAY2NjtWvXLi1fvtyRbVy2OXPmyNvb23gEBgY6uiUAAIAr5rAAGBcXpzVr1ug///mPbrzxRmO5v7+/ysvLdezYMZv6wsJC+fv7GzW/vyr4zPNL1VitVrm7u6thw4ZydnY+b82ZbfzelClTVFxcbDwOHDhw5TsOAADgYHYPgFVVVYqLi9OqVav06aefKjg42GZ9u3btVLduXaWlpRnLcnNzlZ+fr6ioKElSVFSUdu7caXO1bmpqqqxWq8LCwoyas7dxpubMNlxcXNSuXTubmsrKSqWlpRk1v+fq6iqr1WrzAAAAuN7Y/RzA2NhYLVu2TB9++KHq1atnnLPn7e0td3d3eXt7a8SIEYqPj5evr6+sVqtGjRqlqKgoderUSZJ07733KiwsTA8//LDmzZungoICTZ06VbGxsXJ1dZUkPf7441q8eLEmTpyov/71r/r000/17rvvau3a/38VZ3x8vIYOHar27durQ4cOWrhwoY4fP67hw4fb+20BAACwG7sHwNdee02S1K1bN5vlb731loYNGyZJeumll+Tk5KS+ffuqrKxMMTExevXVV41aZ2dnrVmzRk888YSioqLk6empoUOH6plnnjFqgoODtXbtWo0bN04JCQm68cYblZiYqJiYGKOmf//+Onz4sKZPn66CggJFREQoJSXlnAtDAAAAahOH3wfwesZ9hMyH+wACwPWP7+8acB9AAAAA2BcBEAAAwGQIgAAAACZDAAQAADAZAiAAAIDJOPS3gAEA5ze///0OG3v8ijUOGxuAfTADCAAAYDIEQAAAAJMhAAIAAJgMARAAAMBkCIAAAAAmQwAEAAAwGQIgAACAyRAAAQAATIYACAAAYDIEQAAAAJMhAAIAAJgMARAAAMBkCIAAAAAmQwAEAAAwGQIgAACAyRAAAQAATIYACAAAYDIEQAAAAJMhAAIAAJgMARAAAMBkCIAAAAAmU8fRDQAAcMbMmTNNOTZgb8wAAgAAmAwBEAAAwGQIgAAAACZDAAQAADAZAiAAAIDJEAABAABMhgAIAABgMgRAAAAAkyEAAgAAmAy/BALgklolt3LY2DuH7nTY2ABQWzEDCAAAYDIEQAAAAJMhAAIAAJgMARAAAMBkCIAAAAAmQwAEAAAwGQIgAACAyRAAAQAATIYACAAAYDIEQAAAAJMhAAIAAJgMARAAAMBkCIAAAAAmQwAEAAAwGQIgAACAyRAAAQAATIYACAAAYDIEQAAAAJOp4+gGAOBiclqEOmzs0D05DhsbAK4lZgABAABMhgAIAABgMgRAAAAAkyEAAgAAmAwBEAAAwGQIgAAAACZDAAQAADAZAiAAAIDJEAABAABMhl8CAQDY+GHyF44b3M1xQwNmYvoA+Morr+iFF15QQUGBWrdurUWLFqlDhw6ObgtADfDK4586ugUAuCZMfQh4xYoVio+P14wZM7R161a1bt1aMTExKioqcnRrAAAA14ypA+CCBQs0cuRIDR8+XGFhYXr99dfl4eGhN99809GtAQAAXDOmPQRcXl6urKwsTZkyxVjm5OSk6OhoZWRknPc1ZWVlKisrM54XFxdLkkpKSq5ts6gxKstOOGzsEkuVw8au+LXCYWOXVjhu7F/Ljzts7LJTpxw29i9lDtxvS9mli64R/i03jzN/11VVjvt31dFMGwB/+uknVVRUyM/Pz2a5n5+f9uzZc97XzJkzR08//fQ5ywMDA69Jj8DZvB06eo7DRnboGbnf/smRozvMVH3i6BYcYu7cuY5uAXb2yy+/yNvbsf+6OoppA+AfMWXKFMXHxxvPKysrdeTIETVo0EAWi8WBnQGobiUlJQoMDNSBAwdktVod3Q6AalRVVaVffvlFAQEBjm7FYUwbABs2bChnZ2cVFhbaLC8sLJS/v/95X+Pq6ipXV1ebZT4+PteqRQA1gNVqJQACtZBZZ/7OMO1FIC4uLmrXrp3S0tKMZZWVlUpLS1NUVJQDOwMAALi2TDsDKEnx8fEaOnSo2rdvrw4dOmjhwoU6fvy4hg8f7ujWAAAArhlTB8D+/fvr8OHDmj59ugoKChQREaGUlJRzLgwBYD6urq6aMWPGOad9AEBtYKky8zXQAAAAJmTacwABAADMigAIAABgMgRAAAAAkyEAAgAAmAwBEAB+55VXXlFQUJDc3NzUsWNHbd682dEtAUC1IgACwFlWrFih+Ph4zZgxQ1u3blXr1q0VExOjoqIiR7cGANWG28AAwFk6duyoyMhILV68WNJvvxAUGBioUaNGafLkyQ7uDgCqBzOAAPBf5eXlysrKUnR0tLHMyclJ0dHRysjIcGBnAFC9CIAA8F8//fSTKioqzvk1ID8/PxUUFDioKwCofgRAAAAAkyEAAsB/NWzYUM7OziosLLRZXlhYKH9/fwd1BQDVjwAIAP/l4uKidu3aKS0tzVhWWVmptLQ0RUVFObAzAKhedRzdAADUJPHx8Ro6dKjat2+vDh06aOHChTp+/LiGDx/u6NYAoNoQAAHgLP3799fhw4c1ffp0FRQUKCIiQikpKedcGAIA1zPuAwgAAGAynAMIAABgMgRAAAAAkyEAAgAAmAwBEAAAwGQIgAAAACZDAAQAADAZAiAAAIDJEAABAABMhgAIAABgMgRAAAAAkyEAAgAAmAwBEAAAwGQIgAAAACZDAAQAADAZAiAAAIDJEAABAABMhgAIAABgMgRAAAAAkyEAAgAAmAwBEAAAwGQIgAAAACZDAAQAADAZAiAAAIDJEAABAABMhgAIAABgMgRAAAAAkyEAAgAAmAwBEAAAwGQIgAAAACZDAAQAADAZAiAAAIDJ/D96bZ77mQSwFAAAAABJRU5ErkJggg==' width=640.0/>\n",
       "            </div>\n",
       "        "
      ],
      "text/plain": [
       "Canvas(toolbar=Toolbar(toolitems=[('Home', 'Reset original view', 'home', 'home'), ('Back', 'Back to previous …"
      ]
     },
     "metadata": {},
     "output_type": "display_data"
    }
   ],
   "source": [
    "import matplotlib\n",
    "matplotlib.style.use('default')\n",
    "full_df.plot.bar(rot=0)"
   ]
  },
  {
   "cell_type": "markdown",
   "metadata": {},
   "source": [
    "#### Validation"
   ]
  },
  {
   "cell_type": "code",
   "execution_count": 91,
   "metadata": {},
   "outputs": [],
   "source": [
    "coco_stats = stats_type.coco.value_counts()\n",
    "kitti_stats = stats_type.kitti.value_counts()\n",
    "bdd_stats = stats_type.bdd.value_counts()"
   ]
  },
  {
   "cell_type": "code",
   "execution_count": 92,
   "metadata": {},
   "outputs": [],
   "source": [
    "coco_new_labels = {\"person\": [coco_stats[\"person\"]], \"car\": [coco_stats[\"car\"]], \"big_car\": [coco_stats[\"truck\"] + coco_stats[\"bus\"]],\n",
    " \"bike\": [coco_stats[\"bicycle\"] + coco_stats[\"motorcycle\"]], \"train\": [coco_stats[\"train\"]], \"traffic_light\": [coco_stats[\"traffic light\"]], \n",
    " \"animal\": [coco_stats[\"cat\"] + coco_stats[\"dog\"]], \"obstacle\": [coco_stats[\"chair\"] + coco_stats[\"dining table\"] + coco_stats[\"bench\"] + \n",
    " coco_stats[\"couch\"] + coco_stats[\"tv\"] + coco_stats[\"laptop\"] + coco_stats[\"bed\"] + coco_stats[\"fire hydrant\"] + coco_stats[\"parking meter\"]]}\n",
    "\n",
    "coco_df = pd.DataFrame(coco_new_labels)\n",
    "\n",
    "kitti_new_labels = {\"person\": [kitti_stats[\"Pedestrian\"] + kitti_stats[\"Person_sitting\"]], \"car\": [kitti_stats[\"Car\"]], \"big_car\": [kitti_stats[\"Truck\"] + kitti_stats[\"Van\"]],\n",
    " \"bike\": [kitti_stats[\"Cyclist\"]], \"train\": [kitti_stats[\"Tram\"]], \"traffic_light\": [0], \"animal\": [0], \"obstacle\": [0]}\n",
    "\n",
    "kitti_df = pd.DataFrame(kitti_new_labels)\n",
    "\n",
    "bdd_new_labels = {\"person\": [bdd_stats[\"person\"]], \"car\": [bdd_stats[\"car\"]], \"big_car\": [bdd_stats[\"truck\"] + bdd_stats[\"bus\"]],\n",
    " \"bike\": [bdd_stats[\"bike\"] + bdd_stats[\"motor\"]], \"train\": [bdd_stats[\"train\"]], \"traffic_light\": bdd_stats[\"traffic light\"], \"animal\": [0], \"obstacle\": [0]}\n",
    "\n",
    "bdd_df = pd.DataFrame(bdd_new_labels)"
   ]
  },
  {
   "cell_type": "code",
   "execution_count": 93,
   "metadata": {},
   "outputs": [
    {
     "data": {
      "text/plain": [
       "<AxesSubplot:>"
      ]
     },
     "execution_count": 93,
     "metadata": {},
     "output_type": "execute_result"
    },
    {
     "data": {
      "application/vnd.jupyter.widget-view+json": {
       "model_id": "a5644b67458c4c0c99c0651a03cc46a7",
       "version_major": 2,
       "version_minor": 0
      },
      "image/png": "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",
      "text/html": [
       "\n",
       "            <div style=\"display: inline-block;\">\n",
       "                <div class=\"jupyter-widgets widget-label\" style=\"text-align: center;\">\n",
       "                    Figure\n",
       "                </div>\n",
       "                <img src='data:image/png;base64,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' width=640.0/>\n",
       "            </div>\n",
       "        "
      ],
      "text/plain": [
       "Canvas(toolbar=Toolbar(toolitems=[('Home', 'Reset original view', 'home', 'home'), ('Back', 'Back to previous …"
      ]
     },
     "metadata": {},
     "output_type": "display_data"
    }
   ],
   "source": [
    "full_df = coco_df + kitti_df + bdd_df\n",
    "\n",
    "import matplotlib\n",
    "matplotlib.style.use('default')\n",
    "full_df.plot.bar(rot=0)"
   ]
  },
  {
   "cell_type": "markdown",
   "metadata": {},
   "source": [
    "### TFRecord blueprint as DataFrame"
   ]
  },
  {
   "cell_type": "markdown",
   "metadata": {},
   "source": [
    "Map datasets default labels to expected labels:\n",
    "\n",
    "        1 - person\n",
    "        2 - car\n",
    "        3 - big_car\n",
    "        4 - bike\n",
    "        5 - train\n",
    "        6 - traffic_light\n",
    "        7 - animal\n",
    "        8 - obstacle\n"
   ]
  },
  {
   "cell_type": "code",
   "execution_count": 25,
   "metadata": {},
   "outputs": [],
   "source": [
    "class DFHandler:\n",
    "    def prepare_input(self, data, ids, filenames, bounding_boxes, labels):\n",
    "        for bbox, label in zip(data['bboxes'], data['labels']):\n",
    "            ids.append(data[\"id\"])\n",
    "            filenames.append(data['filename'])\n",
    "            bounding_boxes.append(bbox)\n",
    "            labels.append(label)\n",
    "\n",
    "        return ids, filenames, bounding_boxes, labels\n",
    "\n",
    "    def handle(self, dataset, ids, filenames, bounding_boxes, labels):\n",
    "        for img in dataset:\n",
    "            data = self.preprocess_data(img)\n",
    "            ids, filenames, bounding_boxes, labels = self.prepare_input(data, ids, filenames, bounding_boxes, labels)\n",
    "\n",
    "        return ids, filenames, bounding_boxes, labels\n",
    "\n",
    "\n"
   ]
  },
  {
   "cell_type": "code",
   "execution_count": 26,
   "metadata": {},
   "outputs": [],
   "source": [
    "class COCOHandler(DFHandler):\n",
    "    label_map = {\n",
    "        \"person\": 1,\n",
    "        \"car\": 2,\n",
    "        \"chair\": 8,\n",
    "        \"dining table\": 8,\n",
    "        \"traffic light\": 6,\n",
    "        \"truck\": 3,\n",
    "        \"bench\": 8,\n",
    "        \"motorcycle\": 4,\n",
    "        \"bicycle\": 4,\n",
    "        \"dog\": 7,\n",
    "        \"bus\": 3,\n",
    "        \"couch\": 8,\n",
    "        \"tv\": 8,\n",
    "        \"laptop\": 8,\n",
    "        \"train\": 5,\n",
    "        \"cat\": 7,\n",
    "        \"bed\": 8,\n",
    "        \"fire hydrant\": 8,\n",
    "        \"parking meter\": 8,\n",
    "    }\n",
    "\n",
    "    def preprocess_data(self, data):\n",
    "        labels = []\n",
    "        bboxes = []\n",
    "        for detection in data.ground_truth.detections:\n",
    "            bboxes.append(detection.bounding_box)\n",
    "            labels.append(self.label_map[detection.label])\n",
    "\n",
    "        return {\"id\": f\"{data['id']}_coco\", 'filename': data[\"filepath\"], \"labels\": labels, \"bboxes\":bboxes}"
   ]
  },
  {
   "cell_type": "code",
   "execution_count": 27,
   "metadata": {},
   "outputs": [],
   "source": [
    "class BDDHandler(DFHandler):\n",
    "    label_map = {\n",
    "        'traffic light': 6,\n",
    "        'car': 2,\n",
    "        'person': 1,\n",
    "        'motor': 4,\n",
    "        'bus': 3,\n",
    "        'truck': 3,\n",
    "        'bike': 4,\n",
    "        'train': 5,\n",
    "    }\n",
    "\n",
    "    def preprocess_data(self, data):\n",
    "        labels = []\n",
    "        bboxes = []\n",
    "        for detection in data.detections.detections:\n",
    "            if detection.label in self.label_map:\n",
    "                bboxes.append(detection.bounding_box)\n",
    "                labels.append(self.label_map[detection.label])\n",
    "\n",
    "        return {\"id\": f\"{data['id']}_bdd\", 'filename': data[\"filepath\"], \"labels\": labels, \"bboxes\":bboxes}"
   ]
  },
  {
   "cell_type": "code",
   "execution_count": 28,
   "metadata": {},
   "outputs": [],
   "source": [
    "class KITTIHandler(DFHandler):\n",
    "    label_map = {\n",
    "        'Car': 2,\n",
    "        'Van': 3,\n",
    "        'Pedestrian': 1,\n",
    "        'Truck': 3,\n",
    "        'Cyclist': 4,\n",
    "        'Tram': 5,\n",
    "        'Person_sitting': 1\n",
    "    }\n",
    "\n",
    "    def preprocess_data(self, data):\n",
    "        labels = []\n",
    "        bboxes = []\n",
    "        for detection in data.ground_truth.detections:\n",
    "            if detection.label in self.label_map:\n",
    "                bboxes.append(detection.bounding_box)\n",
    "                labels.append(self.label_map[detection.label])\n",
    "\n",
    "        return {\"id\": f\"{data['id']}_kitti\", 'filename': data[\"filepath\"], \"labels\": labels, \"bboxes\":bboxes}"
   ]
  },
  {
   "cell_type": "code",
   "execution_count": 29,
   "metadata": {},
   "outputs": [],
   "source": [
    "def create_pandas_blueprint(coco_ds, bdd_ds, kitti_ds):\n",
    "    coco_handler = COCOHandler()\n",
    "    bdd_handler = BDDHandler()\n",
    "    kitti_handler = KITTIHandler()\n",
    "\n",
    "    id, filename, boxes, labels = coco_handler.handle(coco_ds, [], [], [], [])\n",
    "    id, filename, boxes, labels = bdd_handler.handle(bdd_ds, id, filename, boxes, labels)\n",
    "    id, filename, boxes, labels = kitti_handler.handle(kitti_ds, id, filename, boxes, labels)\n",
    "\n",
    "    return pd.DataFrame({\"id\": id,\"filename\": filename, \"bboxes\": boxes, \"label\": labels})"
   ]
  },
  {
   "cell_type": "code",
   "execution_count": 27,
   "metadata": {},
   "outputs": [],
   "source": [
    "train_df = create_pandas_blueprint(coco_train, bdd_train_6000, kitti_train_6000)"
   ]
  },
  {
   "cell_type": "code",
   "execution_count": 28,
   "metadata": {},
   "outputs": [],
   "source": [
    "validation_df = create_pandas_blueprint(coco_validation, bdd_validation_6000, kitti_validation_6000)"
   ]
  },
  {
   "cell_type": "markdown",
   "metadata": {},
   "source": [
    "### Write TFRecords"
   ]
  },
  {
   "cell_type": "code",
   "execution_count": 43,
   "metadata": {},
   "outputs": [],
   "source": [
    "class Sample:\n",
    "    label_map = {\n",
    "        1: \"person\".encode('utf8'),\n",
    "        2: \"car\".encode('utf8'),\n",
    "        3: \"big_car\".encode('utf8'),\n",
    "        4: \"bike\".encode('utf8'),\n",
    "        5: \"train\".encode('utf8'),\n",
    "        6: \"traffic_light\".encode('utf8'),\n",
    "        7: \"animal\".encode('utf8'),\n",
    "        8: \"obstacle\".encode('utf8')\n",
    "    }\n",
    "\n",
    "    def __init__(self, data):\n",
    "        self.filename = data['filename'].encode('utf8')\n",
    "        self.source_id = self.filename\n",
    "\n",
    "        self.encoded_image = self.get_encoded_image(data)\n",
    "        \n",
    "        height, width, format = self.get_image_data(data)\n",
    "        self.height, self.width, self.format = height, width, format\n",
    "        \n",
    "        self.label = []\n",
    "        self.text = []\n",
    "        self.xmin, self.xmax, self.ymin, self.ymax = [], [], [], []\n",
    "\n",
    "    def get_encoded_image(self, data):\n",
    "        with tf.io.gfile.GFile(data['filename'], 'rb') as fid:\n",
    "            encoded_jpg = fid.read()\n",
    "\n",
    "            if encoded_jpg == b'': raise IOError('Corrupted file')\n",
    "        return encoded_jpg\n",
    "\n",
    "    def get_image_data(self, data):\n",
    "        encoded_jpg_io = io.BytesIO(self.encoded_image)\n",
    "        image = Image.open(encoded_jpg_io)\n",
    "\n",
    "        # Check for corruption in jpg files\n",
    "        try:\n",
    "            image.getdata()[0]\n",
    "        except:\n",
    "            raise IOError(\"Corrupted file\")\n",
    "\n",
    "        width, height = image.size\n",
    "\n",
    "        image_format = data['filename'][-3:].encode('utf8')\n",
    "\n",
    "        return height, width, image_format\n",
    "\n",
    "    def add_bounding_box(self, data):\n",
    "        self.xmin.append(data['bboxes'][0])\n",
    "        self.xmax.append(data['bboxes'][0] + data['bboxes'][2])\n",
    "        self.ymin.append(data['bboxes'][1])\n",
    "        self.ymax.append(data['bboxes'][1] + data['bboxes'][3])\n",
    "\n",
    "    def add_label(self, data):\n",
    "        self.label.append(data['label'])\n",
    "        self.text.append(self.label_map[data['label']])"
   ]
  },
  {
   "cell_type": "code",
   "execution_count": 44,
   "metadata": {},
   "outputs": [],
   "source": [
    "class TFRecordWriter:\n",
    "  \n",
    "    def __init__(self, dataset_df, path, type):\n",
    "        self.df = dataset_df\n",
    "        self.type = type\n",
    "        self.path = path\n",
    "\n",
    "    def write_record(self):\n",
    "        ids = self.prepare_index()\n",
    "        self.open_file()\n",
    "\n",
    "        for id in ids:\n",
    "            data = self.df.query(f'id == \"{id}\"')\n",
    "            try:\n",
    "                sample = Sample(data.iloc[0])\n",
    "\n",
    "                for index, row in data.iterrows():\n",
    "                    sample.add_bounding_box(row)\n",
    "                    sample.add_label(row)\n",
    "\n",
    "                tf_example = self.create_tf_example(sample)\n",
    "                self.write_to_file(tf_example) \n",
    "\n",
    "            except IOError:\n",
    "                pass\n",
    "            \n",
    "        self.close_file\n",
    "\n",
    "    def prepare_index(self):\n",
    "        ids = self.df[\"id\"].unique()\n",
    "        shuffle(ids)\n",
    "        return ids\n",
    "\n",
    "    def open_file(self):\n",
    "        self.writer = tf.io.TFRecordWriter(rf\"{self.path}/{self.type}.records\")\n",
    "\n",
    "    def write_to_file(self, tf_example):\n",
    "        self.writer.write(tf_example.SerializeToString()) \n",
    "\n",
    "    def close_file(self):\n",
    "        self.writer.close()\n",
    "\n",
    "    def create_tf_example(self, sample):\n",
    "\n",
    "        tf_example = tf.train.Example(features=tf.train.Features(feature={\n",
    "            'image/height': dataset_util.int64_feature(sample.height),\n",
    "            'image/width': dataset_util.int64_feature(sample.width),\n",
    "            'image/filename': dataset_util.bytes_feature(sample.filename),\n",
    "            'image/source_id': dataset_util.bytes_feature(sample.source_id),\n",
    "            'image/encoded': dataset_util.bytes_feature(sample.encoded_image),\n",
    "            'image/format': dataset_util.bytes_feature(sample.format),\n",
    "            'image/object/bbox/xmin': dataset_util.float_list_feature(sample.xmin),\n",
    "            'image/object/bbox/xmax': dataset_util.float_list_feature(sample.xmax),\n",
    "            'image/object/bbox/ymin': dataset_util.float_list_feature(sample.ymin),\n",
    "            'image/object/bbox/ymax': dataset_util.float_list_feature(sample.ymax),\n",
    "            'image/object/class/text': dataset_util.bytes_list_feature(sample.text),\n",
    "            'image/object/class/label': dataset_util.int64_list_feature(sample.label),\n",
    "        }))\n",
    "        return tf_example\n"
   ]
  },
  {
   "cell_type": "code",
   "execution_count": 45,
   "metadata": {},
   "outputs": [],
   "source": [
    "train_record_writer = TFRecordWriter(train_df, r\"prepared_datasets\", \"train\")\n",
    "train_record_writer.write_record()"
   ]
  },
  {
   "cell_type": "code",
   "execution_count": 46,
   "metadata": {},
   "outputs": [],
   "source": [
    "validation_record_writer = TFRecordWriter(validation_df, r\"prepared_datasets\", \"validation\")\n",
    "validation_record_writer.write_record()"
   ]
  }
 ],
 "metadata": {
  "kernelspec": {
   "display_name": "Python 3.10.4 ('master_thesis')",
   "language": "python",
   "name": "python3"
  },
  "language_info": {
   "codemirror_mode": {
    "name": "ipython",
    "version": 3
   },
   "file_extension": ".py",
   "mimetype": "text/x-python",
   "name": "python",
   "nbconvert_exporter": "python",
   "pygments_lexer": "ipython3",
   "version": "3.10.4"
  },
  "orig_nbformat": 4,
  "vscode": {
   "interpreter": {
    "hash": "aa476f7de59cb8a012dad243296bb920de54536d7a00d5cb171234a4719cdc64"
   }
  }
 },
 "nbformat": 4,
 "nbformat_minor": 2
}
