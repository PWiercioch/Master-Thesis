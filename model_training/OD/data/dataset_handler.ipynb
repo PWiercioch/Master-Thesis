{
 "cells": [
  {
   "cell_type": "markdown",
   "metadata": {},
   "source": [
    "### General setup"
   ]
  },
  {
   "cell_type": "code",
   "execution_count": 106,
   "metadata": {},
   "outputs": [],
   "source": [
    "%matplotlib widget"
   ]
  },
  {
   "cell_type": "markdown",
   "metadata": {},
   "source": [
    "## Raw dataset preparation"
   ]
  },
  {
   "cell_type": "markdown",
   "metadata": {},
   "source": [
    "### Fiftyone set up"
   ]
  },
  {
   "cell_type": "markdown",
   "metadata": {},
   "source": [
    "Import fiftyone"
   ]
  },
  {
   "cell_type": "code",
   "execution_count": 1,
   "metadata": {},
   "outputs": [],
   "source": [
    "import fiftyone as fo\n",
    "import fiftyone.zoo as foz"
   ]
  },
  {
   "cell_type": "markdown",
   "metadata": {},
   "source": [
    "Set download location"
   ]
  },
  {
   "cell_type": "code",
   "execution_count": 2,
   "metadata": {},
   "outputs": [],
   "source": [
    "import pathlib\n",
    "datasets_path = pathlib.Path().resolve() / \"raw_datasets\"\n",
    "fo.config.dataset_zoo_dir = datasets_path"
   ]
  },
  {
   "cell_type": "markdown",
   "metadata": {},
   "source": [
    "List all fiftyone datasets"
   ]
  },
  {
   "cell_type": "code",
   "execution_count": 14,
   "metadata": {},
   "outputs": [
    {
     "data": {
      "text/plain": [
       "['bdd100k-train', 'coco-2017-train-10000', 'kitti-train']"
      ]
     },
     "execution_count": 14,
     "metadata": {},
     "output_type": "execute_result"
    }
   ],
   "source": [
    "fo.list_datasets()"
   ]
  },
  {
   "cell_type": "markdown",
   "metadata": {},
   "source": [
    "### KITTI Dataset"
   ]
  },
  {
   "cell_type": "markdown",
   "metadata": {},
   "source": [
    "#### Training and Validation"
   ]
  },
  {
   "cell_type": "code",
   "execution_count": 51,
   "metadata": {},
   "outputs": [
    {
     "name": "stdout",
     "output_type": "stream",
     "text": [
      "Split 'train' already downloaded\n",
      "Loading existing dataset 'kitti-train'. To reload from disk, either delete the existing dataset or provide a custom `dataset_name` to use\n"
     ]
    }
   ],
   "source": [
    "kitti_train = foz.load_zoo_dataset(\"kitti\", split=\"train\")"
   ]
  },
  {
   "cell_type": "markdown",
   "metadata": {},
   "source": [
    "Extract 20% from training set for validation"
   ]
  },
  {
   "cell_type": "code",
   "execution_count": 57,
   "metadata": {},
   "outputs": [],
   "source": [
    "index = int(len(kitti_train) * 0.8)\n",
    "kitti_train_view = kitti_train.shuffle()[:index]\n",
    "kitti_validation_view = kitti_train.shuffle()[index:]"
   ]
  },
  {
   "cell_type": "markdown",
   "metadata": {},
   "source": [
    "Check if all images are used and none is duplicated (due to rounding of index)"
   ]
  },
  {
   "cell_type": "code",
   "execution_count": 59,
   "metadata": {},
   "outputs": [
    {
     "data": {
      "text/plain": [
       "True"
      ]
     },
     "execution_count": 59,
     "metadata": {},
     "output_type": "execute_result"
    }
   ],
   "source": [
    "len(kitti_train_view) + len(kitti_validation_view) == len(kitti_train)"
   ]
  },
  {
   "cell_type": "code",
   "execution_count": 62,
   "metadata": {},
   "outputs": [],
   "source": [
    "kitti_train_6000 = fo.Dataset()\n",
    "kitti_train_6000.merge_samples(kitti_train_view)\n",
    "kitti_train_6000.name = 'kitti_train_6000'"
   ]
  },
  {
   "cell_type": "markdown",
   "metadata": {},
   "source": [
    "#### Test"
   ]
  },
  {
   "cell_type": "code",
   "execution_count": null,
   "metadata": {},
   "outputs": [],
   "source": [
    "kitti_test = foz.load_zoo_dataset(\"kitti\", split=\"test\")"
   ]
  },
  {
   "cell_type": "markdown",
   "metadata": {},
   "source": [
    "Dataset operations"
   ]
  },
  {
   "cell_type": "code",
   "execution_count": 5,
   "metadata": {},
   "outputs": [],
   "source": [
    "view = kitti_train.view()"
   ]
  },
  {
   "cell_type": "code",
   "execution_count": null,
   "metadata": {},
   "outputs": [],
   "source": [
    "view.take(len(view)).first()"
   ]
  },
  {
   "cell_type": "code",
   "execution_count": null,
   "metadata": {},
   "outputs": [],
   "source": [
    "x = view.take(10).first()\n",
    "gt = x.ground_truth\n",
    "gt.detections[0]\n",
    "x.filepath"
   ]
  },
  {
   "cell_type": "markdown",
   "metadata": {},
   "source": [
    "### COCO Dataset"
   ]
  },
  {
   "cell_type": "code",
   "execution_count": 49,
   "metadata": {},
   "outputs": [],
   "source": [
    "def download_coco(split, max_samples):\n",
    "    # Restarting download after connection timeout\n",
    "    try:\n",
    "        coco_train = fo.zoo.load_zoo_dataset(\"coco-2017\", split=split, label_types=[\"detections\"], classes=[\"person\", \"bicycle\", \"car\", \"motorcycle\", \"bus\", \"train\", \"truck\", \n",
    "        \"traffic light\", \"fire hydrant\", \"parking meter\", \"bench\", \"cat\", \"dog\", \"chair\", \"couch\", \"bed\", \"dining table\", \"tv\", \"laptop\"], only_matching=True, max_samples=max_samples)\n",
    "    except:\n",
    "        coco_train = download_coco(split, max_samples)\n",
    "\n",
    "    return coco_train"
   ]
  },
  {
   "cell_type": "code",
   "execution_count": 50,
   "metadata": {},
   "outputs": [
    {
     "name": "stdout",
     "output_type": "stream",
     "text": [
      "Downloading split 'train' to 'D:\\_moje\\AGH\\Magisterka\\Master-Thesis\\model_training\\OD\\data\\raw_datasets\\coco-2017\\train' if necessary\n",
      "Found annotations at 'D:\\_moje\\AGH\\Magisterka\\Master-Thesis\\model_training\\OD\\data\\raw_datasets\\coco-2017\\raw\\instances_train2017.json'\n",
      "11798 images found; downloading the remaining 202\n",
      " 100% |██████████████████| 202/202 [22.0s elapsed, 0s remaining, 10.0 images/s]     \n",
      "Writing annotations for 12000 downloaded samples to 'D:\\_moje\\AGH\\Magisterka\\Master-Thesis\\model_training\\OD\\data\\raw_datasets\\coco-2017\\train\\labels.json'\n",
      "Dataset info written to 'D:\\_moje\\AGH\\Magisterka\\Master-Thesis\\model_training\\OD\\data\\raw_datasets\\coco-2017\\info.json'\n",
      "Loading 'coco-2017' split 'train'\n",
      " 100% |█████████████| 12000/12000 [44.4s elapsed, 0s remaining, 228.1 samples/s]      \n",
      "Dataset 'coco-2017-train-12000' created\n"
     ]
    }
   ],
   "source": [
    "coco_train = download_coco('train', 12000)"
   ]
  },
  {
   "cell_type": "code",
   "execution_count": null,
   "metadata": {},
   "outputs": [],
   "source": [
    "coco_validation = download_coco('validation', 2400)"
   ]
  },
  {
   "cell_type": "code",
   "execution_count": null,
   "metadata": {},
   "outputs": [],
   "source": [
    "coco_test = download_coco('test', 2400)"
   ]
  },
  {
   "cell_type": "markdown",
   "metadata": {},
   "source": [
    "### BDD Dataset"
   ]
  },
  {
   "cell_type": "markdown",
   "metadata": {},
   "source": [
    "#### Training"
   ]
  },
  {
   "cell_type": "code",
   "execution_count": 4,
   "metadata": {},
   "outputs": [
    {
     "name": "stdout",
     "output_type": "stream",
     "text": [
      "Preparing split 'train' in 'D:\\_moje\\AGH\\Magisterka\\Master-Thesis\\model_training\\OD\\data\\raw_datasets\\bdd100k\\train'\n",
      "Preparing training images...\n",
      "Preparing training labels...\n",
      "Preparing validation images...\n",
      "Preparing validation labels...\n",
      "Preparing test images...\n",
      "Parsing dataset metadata\n",
      "Found 70000 samples\n",
      "Dataset info written to 'D:\\_moje\\AGH\\Magisterka\\Master-Thesis\\model_training\\OD\\data\\raw_datasets\\bdd100k\\info.json'\n",
      "Loading 'bdd100k' split 'train'\n",
      " 100% |█████████████| 70000/70000 [1.0h elapsed, 0s remaining, 42.3 samples/s]      \n",
      "Dataset 'bdd100k-train' created\n"
     ]
    }
   ],
   "source": [
    "bdd_train = foz.load_zoo_dataset(\n",
    "    \"bdd100k\",\n",
    "    split=\"train\",\n",
    "    source_dir=r'raw_datasets/bdd100k/',\n",
    ")"
   ]
  },
  {
   "cell_type": "markdown",
   "metadata": {},
   "source": [
    "Take only 6000 images from shuffled dataset"
   ]
  },
  {
   "cell_type": "code",
   "execution_count": 17,
   "metadata": {},
   "outputs": [],
   "source": [
    "bdd_train_view = bdd_train.view()\n",
    "bdd_train_view = bdd_train_view.shuffle()[:6000]"
   ]
  },
  {
   "cell_type": "markdown",
   "metadata": {},
   "source": [
    "Save view as a new dataset"
   ]
  },
  {
   "cell_type": "code",
   "execution_count": 46,
   "metadata": {},
   "outputs": [],
   "source": [
    "bdd_train_6000 = fo.Dataset()\n",
    "bdd_train_6000.merge_samples(bdd_train_view)\n",
    "bdd_train_6000.name = 'bdd_train_6000'"
   ]
  },
  {
   "cell_type": "markdown",
   "metadata": {},
   "source": [
    "#### Validation"
   ]
  },
  {
   "cell_type": "code",
   "execution_count": null,
   "metadata": {},
   "outputs": [],
   "source": [
    "bdd_validation = foz.load_zoo_dataset(\n",
    "    \"bdd100k\",\n",
    "    split=\"validation\",\n",
    "    source_dir=r'raw_datasets/bdd100k/',\n",
    ")"
   ]
  },
  {
   "cell_type": "markdown",
   "metadata": {},
   "source": [
    "#### Test"
   ]
  },
  {
   "cell_type": "code",
   "execution_count": null,
   "metadata": {},
   "outputs": [],
   "source": [
    "bdd_test = foz.load_zoo_dataset(\n",
    "    \"bdd100k\",\n",
    "    split=\"test\",\n",
    "    source_dir=r'raw_datasets/bdd100k/',\n",
    ")"
   ]
  },
  {
   "cell_type": "markdown",
   "metadata": {},
   "source": [
    "## TF Record Creation"
   ]
  },
  {
   "cell_type": "markdown",
   "metadata": {},
   "source": [
    "### Preprocess data"
   ]
  },
  {
   "cell_type": "markdown",
   "metadata": {},
   "source": [
    "Delete images without labels and containing only \"traffic sign\" label from BDD Dataset"
   ]
  },
  {
   "cell_type": "code",
   "execution_count": 117,
   "metadata": {},
   "outputs": [],
   "source": [
    "dropped_ids = []\n",
    "for img in bdd_train_6000:\n",
    "    if img.detections:\n",
    "        det_labels = []\n",
    "        for det in img.detections.detections:\n",
    "            det_labels.append(det.label)\n",
    "        det_labels = set(det_labels)\n",
    "        if len(det_labels) == 1 and \"traffic sign\" in det_labels:\n",
    "            dropped_ids.append(img.id)\n",
    "    else:\n",
    "        dropped_ids.append(img.id)"
   ]
  },
  {
   "cell_type": "code",
   "execution_count": null,
   "metadata": {},
   "outputs": [],
   "source": [
    "bdd_train_6000.delete_samples(dropped_ids)\n",
    "bdd_train_6000.save()"
   ]
  },
  {
   "cell_type": "markdown",
   "metadata": {},
   "source": [
    "Delete images without labels and with labels containig only \"Misc\" or \"DontCare\" from KITTI dataset"
   ]
  },
  {
   "cell_type": "code",
   "execution_count": 150,
   "metadata": {},
   "outputs": [],
   "source": [
    "correct_labels = [\"Car\", \"Pedestrian\", \"Van\", \"Cyclist\", \"Truck\", \"Tram\", \"Person_sitting\"]"
   ]
  },
  {
   "cell_type": "code",
   "execution_count": 159,
   "metadata": {},
   "outputs": [],
   "source": [
    "dropped_ids = []\n",
    "for img in kitti_train_6000:\n",
    "    det_labels = []\n",
    "    for det in img.ground_truth.detections:\n",
    "        det_labels.append(det.label)\n",
    "    for label in correct_labels:\n",
    "        if label in det_labels:\n",
    "            break\n",
    "        dropped_ids.append(img.id)"
   ]
  },
  {
   "cell_type": "code",
   "execution_count": 155,
   "metadata": {},
   "outputs": [],
   "source": [
    "kitti_train_6000.delete_samples(dropped_ids)\n",
    "kitti_train_6000.save()"
   ]
  },
  {
   "cell_type": "markdown",
   "metadata": {},
   "source": [
    "### Datasets statistics"
   ]
  },
  {
   "cell_type": "code",
   "execution_count": 96,
   "metadata": {},
   "outputs": [],
   "source": [
    "import pandas as pd"
   ]
  },
  {
   "cell_type": "code",
   "execution_count": 127,
   "metadata": {},
   "outputs": [],
   "source": [
    "bdd_labels = []\n",
    "for img in bdd_train_6000:\n",
    "    for det in img.detections.detections:\n",
    "        bdd_labels.append(det.label)"
   ]
  },
  {
   "cell_type": "code",
   "execution_count": 126,
   "metadata": {},
   "outputs": [],
   "source": [
    "kitti_labels = []\n",
    "for img in kitti_train_6000:\n",
    "    for det in img.ground_truth.detections:\n",
    "        kitti_labels.append(det.label)"
   ]
  },
  {
   "cell_type": "code",
   "execution_count": 163,
   "metadata": {},
   "outputs": [],
   "source": [
    "coco_labels = []\n",
    "for img in coco_train:\n",
    "    for det in img.ground_truth.detections:\n",
    "        coco_labels.append(det.label)"
   ]
  },
  {
   "cell_type": "code",
   "execution_count": 129,
   "metadata": {},
   "outputs": [],
   "source": [
    "bdd_labels = pd.DataFrame({\"bdd\": bdd_labels})"
   ]
  },
  {
   "cell_type": "code",
   "execution_count": 138,
   "metadata": {},
   "outputs": [
    {
     "data": {
      "text/plain": [
       "car              62162\n",
       "traffic sign     20027\n",
       "traffic light    15479\n",
       "person            7273\n",
       "truck             2592\n",
       "bus               1004\n",
       "bike               625\n",
       "rider              376\n",
       "motor              251\n",
       "train               21\n",
       "Name: bdd, dtype: int64"
      ]
     },
     "execution_count": 138,
     "metadata": {},
     "output_type": "execute_result"
    }
   ],
   "source": [
    "bdd_labels[\"bdd\"].value_counts()"
   ]
  },
  {
   "cell_type": "code",
   "execution_count": 131,
   "metadata": {},
   "outputs": [],
   "source": [
    "kitti_labels = pd.DataFrame({\"kitti\": kitti_labels})"
   ]
  },
  {
   "cell_type": "code",
   "execution_count": 137,
   "metadata": {},
   "outputs": [
    {
     "data": {
      "text/plain": [
       "Car               22938\n",
       "DontCare           9007\n",
       "Pedestrian         3555\n",
       "Van                2308\n",
       "Cyclist            1291\n",
       "Truck               848\n",
       "Misc                792\n",
       "Tram                403\n",
       "Person_sitting      184\n",
       "Name: kitti, dtype: int64"
      ]
     },
     "execution_count": 137,
     "metadata": {},
     "output_type": "execute_result"
    }
   ],
   "source": [
    "kitti_labels[\"kitti\"].value_counts()"
   ]
  },
  {
   "cell_type": "code",
   "execution_count": 164,
   "metadata": {},
   "outputs": [],
   "source": [
    "coco_labels = pd.DataFrame({\"coco\": coco_labels})"
   ]
  },
  {
   "cell_type": "code",
   "execution_count": 165,
   "metadata": {},
   "outputs": [
    {
     "data": {
      "text/plain": [
       "person           35278\n",
       "car               6050\n",
       "chair             5027\n",
       "dining table      2065\n",
       "traffic light     1740\n",
       "truck             1358\n",
       "bench             1277\n",
       "motorcycle        1132\n",
       "bicycle            873\n",
       "dog                770\n",
       "bus                768\n",
       "couch              725\n",
       "tv                 719\n",
       "laptop             660\n",
       "train              635\n",
       "cat                621\n",
       "bed                578\n",
       "fire hydrant       253\n",
       "parking meter      179\n",
       "Name: coco, dtype: int64"
      ]
     },
     "execution_count": 165,
     "metadata": {},
     "output_type": "execute_result"
    }
   ],
   "source": [
    "coco_labels[\"coco\"].value_counts()"
   ]
  }
 ],
 "metadata": {
  "kernelspec": {
   "display_name": "Python 3.10.4 ('master_thesis')",
   "language": "python",
   "name": "python3"
  },
  "language_info": {
   "codemirror_mode": {
    "name": "ipython",
    "version": 3
   },
   "file_extension": ".py",
   "mimetype": "text/x-python",
   "name": "python",
   "nbconvert_exporter": "python",
   "pygments_lexer": "ipython3",
   "version": "3.10.4"
  },
  "orig_nbformat": 4,
  "vscode": {
   "interpreter": {
    "hash": "aa476f7de59cb8a012dad243296bb920de54536d7a00d5cb171234a4719cdc64"
   }
  }
 },
 "nbformat": 4,
 "nbformat_minor": 2
}
